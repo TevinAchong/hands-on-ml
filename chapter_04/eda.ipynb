{
 "cells": [
  {
   "cell_type": "markdown",
   "metadata": {},
   "source": [
    "### Linear Regression\n",
    "The MSE cost function for a linear regression model looks like:\n",
    "$$\n",
    "MSE(X, h_{\\theta}) = \\frac{1}{m} \\sum^{m}_{i=1}(\\theta^{T}x^{(i)}-y^{(i)})^{2}\n",
    "$$\n",
    "\n",
    "\n",
    "## The Normal Equation\n",
    "To find the value of $\\theta$ that minimizes the MSE, there exists a *closed-form solution* that gives the result directly.\n",
    "\n",
    "$$\n",
    "\\hat{\\theta} = (X^{T}X)^{-1}X^{T}y\n",
    "$$\n",
    "\n",
    "Where:\n",
    "- $\\hat{\\theta}$ is the value of $\\theta$ that minimzes the cost function.\n",
    "- $y$ is the vector of the target values containing $y^{(1)}$ to $y^{(m)}$."
   ]
  },
  {
   "cell_type": "code",
   "execution_count": 1,
   "metadata": {},
   "outputs": [],
   "source": [
    "# Generating some linear-looking data to test the equation on\n",
    "import numpy as np\n",
    "\n",
    "np.random.seed(42) # to make the code reproducible\n",
    "m = 100 # number of instances"
   ]
  },
  {
   "cell_type": "code",
   "execution_count": 2,
   "metadata": {},
   "outputs": [
    {
     "name": "stdout",
     "output_type": "stream",
     "text": [
      "[[0.74908024]\n",
      " [1.90142861]\n",
      " [1.46398788]\n",
      " [1.19731697]\n",
      " [0.31203728]\n",
      " [0.31198904]\n",
      " [0.11616722]\n",
      " [1.73235229]\n",
      " [1.20223002]\n",
      " [1.41614516]\n",
      " [0.04116899]\n",
      " [1.9398197 ]\n",
      " [1.66488528]\n",
      " [0.42467822]\n",
      " [0.36364993]\n",
      " [0.36680902]\n",
      " [0.60848449]\n",
      " [1.04951286]\n",
      " [0.86389004]\n",
      " [0.58245828]\n",
      " [1.22370579]\n",
      " [0.27898772]\n",
      " [0.5842893 ]\n",
      " [0.73272369]\n",
      " [0.91213997]\n",
      " [1.57035192]\n",
      " [0.39934756]\n",
      " [1.02846888]\n",
      " [1.18482914]\n",
      " [0.09290083]\n",
      " [1.2150897 ]\n",
      " [0.34104825]\n",
      " [0.13010319]\n",
      " [1.89777107]\n",
      " [1.93126407]\n",
      " [1.6167947 ]\n",
      " [0.60922754]\n",
      " [0.19534423]\n",
      " [1.36846605]\n",
      " [0.88030499]\n",
      " [0.24407647]\n",
      " [0.99035382]\n",
      " [0.06877704]\n",
      " [1.8186408 ]\n",
      " [0.51755996]\n",
      " [1.32504457]\n",
      " [0.62342215]\n",
      " [1.04013604]\n",
      " [1.09342056]\n",
      " [0.36970891]\n",
      " [1.93916926]\n",
      " [1.55026565]\n",
      " [1.87899788]\n",
      " [1.7896547 ]\n",
      " [1.19579996]\n",
      " [1.84374847]\n",
      " [0.176985  ]\n",
      " [0.39196572]\n",
      " [0.09045458]\n",
      " [0.65066066]\n",
      " [0.77735458]\n",
      " [0.54269806]\n",
      " [1.65747502]\n",
      " [0.71350665]\n",
      " [0.56186902]\n",
      " [1.08539217]\n",
      " [0.28184845]\n",
      " [1.60439396]\n",
      " [0.14910129]\n",
      " [1.97377387]\n",
      " [1.54448954]\n",
      " [0.39743136]\n",
      " [0.01104423]\n",
      " [1.63092286]\n",
      " [1.41371469]\n",
      " [1.45801434]\n",
      " [1.54254069]\n",
      " [0.1480893 ]\n",
      " [0.71693146]\n",
      " [0.23173812]\n",
      " [1.72620685]\n",
      " [1.24659625]\n",
      " [0.66179605]\n",
      " [0.1271167 ]\n",
      " [0.62196464]\n",
      " [0.65036664]\n",
      " [1.45921236]\n",
      " [1.27511494]\n",
      " [1.77442549]\n",
      " [0.94442985]\n",
      " [0.23918849]\n",
      " [1.42648957]\n",
      " [1.5215701 ]\n",
      " [1.1225544 ]\n",
      " [1.54193436]\n",
      " [0.98759119]\n",
      " [1.04546566]\n",
      " [0.85508204]\n",
      " [0.05083825]\n",
      " [0.21578285]]\n"
     ]
    }
   ],
   "source": [
    "# Generate an array of shape (m, 1) with random numbers normally distributed between 0 and 1\n",
    "# Multiply each element in the array by 2\n",
    "X = 2 * np.random.rand(m, 1)\n",
    "print(X)"
   ]
  },
  {
   "cell_type": "code",
   "execution_count": 3,
   "metadata": {},
   "outputs": [
    {
     "name": "stdout",
     "output_type": "stream",
     "text": [
      "[[ 6.33428778]\n",
      " [ 9.40527849]\n",
      " [ 8.48372443]\n",
      " [ 5.60438199]\n",
      " [ 4.71643995]\n",
      " [ 5.29307969]\n",
      " [ 5.82639572]\n",
      " [ 8.67878666]\n",
      " [ 6.79819647]\n",
      " [ 7.74667842]\n",
      " [ 5.03890908]\n",
      " [10.14821022]\n",
      " [ 8.46489564]\n",
      " [ 5.7873021 ]\n",
      " [ 5.18802735]\n",
      " [ 6.06907205]\n",
      " [ 5.12340036]\n",
      " [ 6.82087644]\n",
      " [ 6.19956196]\n",
      " [ 4.28385989]\n",
      " [ 7.96723765]\n",
      " [ 5.09801844]\n",
      " [ 5.75798135]\n",
      " [ 5.96358393]\n",
      " [ 5.32104916]\n",
      " [ 8.29041045]\n",
      " [ 4.85532818]\n",
      " [ 6.28312936]\n",
      " [ 7.3932017 ]\n",
      " [ 4.68275333]\n",
      " [ 9.53145501]\n",
      " [ 5.19772255]\n",
      " [ 4.64785995]\n",
      " [ 9.61886731]\n",
      " [ 7.87502098]\n",
      " [ 8.82387021]\n",
      " [ 5.88791282]\n",
      " [ 7.0492748 ]\n",
      " [ 7.91303719]\n",
      " [ 6.9424623 ]\n",
      " [ 4.69751764]\n",
      " [ 5.80238342]\n",
      " [ 5.34915394]\n",
      " [10.20785545]\n",
      " [ 6.34371184]\n",
      " [ 7.06574625]\n",
      " [ 7.27306077]\n",
      " [ 5.71855706]\n",
      " [ 7.86711877]\n",
      " [ 7.29958236]\n",
      " [ 8.82697144]\n",
      " [ 8.08449921]\n",
      " [ 9.73664501]\n",
      " [ 8.86548845]\n",
      " [ 6.03673644]\n",
      " [ 9.59980838]\n",
      " [ 3.4686513 ]\n",
      " [ 5.64948961]\n",
      " [ 3.3519395 ]\n",
      " [ 7.50191639]\n",
      " [ 5.54881045]\n",
      " [ 5.30603267]\n",
      " [ 9.78594227]\n",
      " [ 4.90965564]\n",
      " [ 5.91306699]\n",
      " [ 8.56331925]\n",
      " [ 3.23806212]\n",
      " [ 8.99781574]\n",
      " [ 4.70718666]\n",
      " [10.70314449]\n",
      " [ 7.3965179 ]\n",
      " [ 3.87183748]\n",
      " [ 4.55507427]\n",
      " [ 9.18975324]\n",
      " [ 8.49163691]\n",
      " [ 8.72049122]\n",
      " [ 7.94759736]\n",
      " [ 4.67652161]\n",
      " [ 6.44386684]\n",
      " [ 3.98086294]\n",
      " [11.04439507]\n",
      " [ 8.21362168]\n",
      " [ 4.79408465]\n",
      " [ 5.03790371]\n",
      " [ 4.89121226]\n",
      " [ 6.73818454]\n",
      " [ 9.53623265]\n",
      " [ 7.00466251]\n",
      " [10.28665258]\n",
      " [ 7.24607048]\n",
      " [ 5.53962564]\n",
      " [10.17626171]\n",
      " [ 8.31932218]\n",
      " [ 6.61392702]\n",
      " [ 7.73628865]\n",
      " [ 6.14696329]\n",
      " [ 7.05929527]\n",
      " [ 6.90639808]\n",
      " [ 4.42920556]\n",
      " [ 5.47453181]]\n"
     ]
    }
   ],
   "source": [
    "y = 4 + 3 * X + np.random.randn(m, 1) # y = 4 + 3x\n",
    "print(y)"
   ]
  },
  {
   "cell_type": "code",
   "execution_count": 5,
   "metadata": {},
   "outputs": [
    {
     "data": {
      "image/png": "[encoded data removed]",
      "text/plain": [
       "<Figure size 640x480 with 1 Axes>"
      ]
     },
     "metadata": {},
     "output_type": "display_data"
    }
   ],
   "source": [
    "import matplotlib.pyplot as plt\n",
    "\n",
    "plt.scatter(X, y, color='b')  # Use scatter instead of plot\n",
    "plt.xlabel('X values')\n",
    "plt.ylabel('y values')\n",
    "plt.title('Scatterplot of X vs y')\n",
    "plt.grid(True)\n",
    "\n",
    "# Show the plot\n",
    "plt.show()"
   ]
  },
  {
   "cell_type": "code",
   "execution_count": 8,
   "metadata": {},
   "outputs": [
    {
     "name": "stdout",
     "output_type": "stream",
     "text": [
      "[[1.         0.74908024]\n",
      " [1.         1.90142861]\n",
      " [1.         1.46398788]\n",
      " [1.         1.19731697]\n",
      " [1.         0.31203728]\n",
      " [1.         0.31198904]\n",
      " [1.         0.11616722]\n",
      " [1.         1.73235229]\n",
      " [1.         1.20223002]\n",
      " [1.         1.41614516]\n",
      " [1.         0.04116899]\n",
      " [1.         1.9398197 ]\n",
      " [1.         1.66488528]\n",
      " [1.         0.42467822]\n",
      " [1.         0.36364993]\n",
      " [1.         0.36680902]\n",
      " [1.         0.60848449]\n",
      " [1.         1.04951286]\n",
      " [1.         0.86389004]\n",
      " [1.         0.58245828]\n",
      " [1.         1.22370579]\n",
      " [1.         0.27898772]\n",
      " [1.         0.5842893 ]\n",
      " [1.         0.73272369]\n",
      " [1.         0.91213997]\n",
      " [1.         1.57035192]\n",
      " [1.         0.39934756]\n",
      " [1.         1.02846888]\n",
      " [1.         1.18482914]\n",
      " [1.         0.09290083]\n",
      " [1.         1.2150897 ]\n",
      " [1.         0.34104825]\n",
      " [1.         0.13010319]\n",
      " [1.         1.89777107]\n",
      " [1.         1.93126407]\n",
      " [1.         1.6167947 ]\n",
      " [1.         0.60922754]\n",
      " [1.         0.19534423]\n",
      " [1.         1.36846605]\n",
      " [1.         0.88030499]\n",
      " [1.         0.24407647]\n",
      " [1.         0.99035382]\n",
      " [1.         0.06877704]\n",
      " [1.         1.8186408 ]\n",
      " [1.         0.51755996]\n",
      " [1.         1.32504457]\n",
      " [1.         0.62342215]\n",
      " [1.         1.04013604]\n",
      " [1.         1.09342056]\n",
      " [1.         0.36970891]\n",
      " [1.         1.93916926]\n",
      " [1.         1.55026565]\n",
      " [1.         1.87899788]\n",
      " [1.         1.7896547 ]\n",
      " [1.         1.19579996]\n",
      " [1.         1.84374847]\n",
      " [1.         0.176985  ]\n",
      " [1.         0.39196572]\n",
      " [1.         0.09045458]\n",
      " [1.         0.65066066]\n",
      " [1.         0.77735458]\n",
      " [1.         0.54269806]\n",
      " [1.         1.65747502]\n",
      " [1.         0.71350665]\n",
      " [1.         0.56186902]\n",
      " [1.         1.08539217]\n",
      " [1.         0.28184845]\n",
      " [1.         1.60439396]\n",
      " [1.         0.14910129]\n",
      " [1.         1.97377387]\n",
      " [1.         1.54448954]\n",
      " [1.         0.39743136]\n",
      " [1.         0.01104423]\n",
      " [1.         1.63092286]\n",
      " [1.         1.41371469]\n",
      " [1.         1.45801434]\n",
      " [1.         1.54254069]\n",
      " [1.         0.1480893 ]\n",
      " [1.         0.71693146]\n",
      " [1.         0.23173812]\n",
      " [1.         1.72620685]\n",
      " [1.         1.24659625]\n",
      " [1.         0.66179605]\n",
      " [1.         0.1271167 ]\n",
      " [1.         0.62196464]\n",
      " [1.         0.65036664]\n",
      " [1.         1.45921236]\n",
      " [1.         1.27511494]\n",
      " [1.         1.77442549]\n",
      " [1.         0.94442985]\n",
      " [1.         0.23918849]\n",
      " [1.         1.42648957]\n",
      " [1.         1.5215701 ]\n",
      " [1.         1.1225544 ]\n",
      " [1.         1.54193436]\n",
      " [1.         0.98759119]\n",
      " [1.         1.04546566]\n",
      " [1.         0.85508204]\n",
      " [1.         0.05083825]\n",
      " [1.         0.21578285]]\n"
     ]
    }
   ],
   "source": [
    "from sklearn.preprocessing import add_dummy_feature\n",
    "\n",
    "X_b = add_dummy_feature(X) # add x0 = 1 to each instance\n",
    "print(X_b)\n",
    "theta_best = np.linalg.inv(X_b.T @ X_b) @ X_b.T @ y"
   ]
  },
  {
   "cell_type": "code",
   "execution_count": 7,
   "metadata": {},
   "outputs": [
    {
     "name": "stdout",
     "output_type": "stream",
     "text": [
      "[[4.21509616]\n",
      " [2.77011339]]\n"
     ]
    }
   ],
   "source": [
    "print(theta_best)"
   ]
  },
  {
   "cell_type": "code",
   "execution_count": 9,
   "metadata": {},
   "outputs": [
    {
     "data": {
      "text/plain": [
       "array([[4.21509616],\n",
       "       [9.75532293]])"
      ]
     },
     "execution_count": 9,
     "metadata": {},
     "output_type": "execute_result"
    }
   ],
   "source": [
    "# Making predictions using theta_best\n",
    "X_new = np.array([[0], [2]])\n",
    "X_new_b = add_dummy_feature(X_new)\n",
    "y_predict = X_new_b @ theta_best\n",
    "y_predict"
   ]
  },
  {
   "cell_type": "code",
   "execution_count": 11,
   "metadata": {},
   "outputs": [
    {
     "data": {
      "image/png": "[encoded data removed]",
      "text/plain": [
       "<Figure size 640x480 with 1 Axes>"
      ]
     },
     "metadata": {},
     "output_type": "display_data"
    }
   ],
   "source": [
    "# Plotting the model's predictions\n",
    "plt.plot(X_new, y_predict, \"r-\", label=\"Predictions\")\n",
    "plt.plot(X, y, \"b.\")\n",
    "plt.show()"
   ]
  },
  {
   "cell_type": "markdown",
   "metadata": {},
   "source": [
    "### Performing Linear Regression with Scikit Learn"
   ]
  },
  {
   "cell_type": "code",
   "execution_count": 12,
   "metadata": {},
   "outputs": [
    {
     "data": {
      "text/plain": [
       "(array([4.21509616]), array([[2.77011339]]))"
      ]
     },
     "execution_count": 12,
     "metadata": {},
     "output_type": "execute_result"
    }
   ],
   "source": [
    "from sklearn.linear_model import LinearRegression\n",
    "lin_reg = LinearRegression()\n",
    "lin_reg.fit(X, y)\n",
    "\n",
    "# Sklearn separates the bias term (intercept_) from the feature weights (coef_). \n",
    "lin_reg.intercept_, lin_reg.coef_"
   ]
  },
  {
   "cell_type": "code",
   "execution_count": 13,
   "metadata": {},
   "outputs": [
    {
     "data": {
      "text/plain": [
       "array([[4.21509616],\n",
       "       [9.75532293]])"
      ]
     },
     "execution_count": 13,
     "metadata": {},
     "output_type": "execute_result"
    }
   ],
   "source": [
    "lin_reg.predict(X_new)"
   ]
  },
  {
   "cell_type": "markdown",
   "metadata": {},
   "source": [
    "### Computational Complexity\n",
    "- The Normal equation computes the inverse of $X^TX$, which is an $(n + 1) \\times (n + 1)$ matrix (where n is the number of features).\n",
    "- The *computational complexity* of inverting such a matrix is typically about $O(n^{2.4})$ to $O(n^3)$, depending on the implementation. \n",
    "- The SVD approach used by Scikit-Learn's `LinearRegression` class is about $O(n^2)$\n",
    "- Both the Normal equation and the SVD approach get very slow when the number of features grows large (e.g. 100,000).\n",
    "- On the positive side, both are linear with regard to the number of instances in the training set, so they handle large training sets efficiently. "
   ]
  },
  {
   "cell_type": "markdown",
   "metadata": {},
   "source": [
    "## Gradient Descent\n",
    "- A generic optimization algorithm capable of finding optimal solutions to a wide range of problems. \n",
    "- General idea is to tweak parameters iteratively in order to minimize a cost function. \n",
    "- Algorithm simplified:\n",
    "    - It measures the local gradient of the error function with regard to the parameter vector $\\theta$, and it goes in the direction of descending gradient.\n",
    "    - Once the gradient is zero, you have reached a minimum!\n",
    "    - In practice, you start by filling $\\theta$ with random values (*random initialization*).\n",
    "    - Then you improve it gradually, taking one baby step at a time, each step attempting to decrease the cost function until the algorithm converges to a minimum.\n",
    "- An important parameter in gradient descent is the size of the steps, determined by the *learning rate* hyperparameter. \n",
    "    - If the learning rate is too small, then the algorithm will have to go through many iterations to converge, which will take a long time.\n",
    "    - On the other hand, if the learning rate is too high, you might jump across the valley and end up on the other side, possibly even higher than you were before. This might make the algorithm diverge, with larger and larger values, failing to find a good solution.\n",
    "- When using gradient descent, you should ensure that all features have a similar scale (e.g. using Scikit-Learn's `StandardScaler` class), or else it will take much longer to converge.\n",
    "\n",
    "- Training a model means searching for a combination of model parameters that minimizes a cost function (over the training set). It is a search in the model's *parameter space*. \n",
    "    - The more parameters a model has, the more dimensions this space has, and the harder the search is."
   ]
  },
  {
   "cell_type": "markdown",
   "metadata": {},
   "source": []
  }
 ],
 "metadata": {
  "kernelspec": {
   "display_name": "Python 3",
   "language": "python",
   "name": "python3"
  },
  "language_info": {
   "codemirror_mode": {
    "name": "ipython",
    "version": 3
   },
   "file_extension": ".py",
   "mimetype": "text/x-python",
   "name": "python",
   "nbconvert_exporter": "python",
   "pygments_lexer": "ipython3",
   "version": "3.10.2"
  }
 },
 "nbformat": 4,
 "nbformat_minor": 2
}
