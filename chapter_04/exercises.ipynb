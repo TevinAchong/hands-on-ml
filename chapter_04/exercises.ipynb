{
 "cells": [
  {
   "cell_type": "markdown",
   "metadata": {},
   "source": [
    "#### **1. Which linear regression algorithm can you use if you have a training set with millions of features?**"
   ]
  },
  {
   "cell_type": "markdown",
   "metadata": {},
   "source": [
    "- I would say Lasso regression. This is because through training, lasso regression tends to eliminate the weights of the least important features (i.e. set them to zero).\n",
    "- To train this model, you can use an applicable form of *gradient descent*: stochastic, mini-batch or batch (if the training set can fit in memory).\n",
    "- You **cannot** use the Normal Equation or the SVD approach because the computational complexity grows quickly."
   ]
  },
  {
   "cell_type": "markdown",
   "metadata": {},
   "source": [
    "#### **2. Suppose the features in your training set have very different scales. Which alogorithms might suffer from this and how? What can you do about it?**"
   ]
  },
  {
   "cell_type": "markdown",
   "metadata": {},
   "source": [
    "**My Answer:**\n",
    "- Any regularized regression models will suffer: ridge regression, lasso regression, and elastic net regression. \n",
    "- This is because these algorithms are very sensitive to the scale of the input features. \n",
    "- To mitigate this, we can performing feature scaling (e.g. using Sklearn's `StandardScaler`).\n",
    "\n",
    "**Aurelien's Answer:**\n",
    "- If the features in your training set have very different scales, the cost function will have the shape of an elongated bowl, so the Gradient Descent algorithms will take a long time to converge. To solve this you should scale the data before training the model. Note that the Normal Equation or SVD approach will work just fine without scaling. Moreover, regularized models may converge to a suboptimal solution if the features are not scaled: since regularization penalizes large weights, features with smaller values will tend to be ignored compared to features with larger values."
   ]
  },
  {
   "cell_type": "markdown",
   "metadata": {},
   "source": [
    "#### **3. Can gradient descent get stuck in a local minimum when training a logistic regression model?**\n",
    "\n",
    "**My answer:**\n",
    "- No. The cost function for logistic regression is convex. Meaning that gradient descent is guaranteed to find the global minimum. \n",
    "\n",
    "**Aurelien's Answer:**\n",
    "- Gradient Descent cannot get stuck in a local minimum when training a Logistic Regression model because the cost function is convex. Convex means that if you draw a straight line between any two points on the curve, the line never crosses the curve."
   ]
  },
  {
   "cell_type": "markdown",
   "metadata": {},
   "source": [
    "### **4. Do all gradient descent algorithms lead to the same model, provided you let them run long enough?**"
   ]
  },
  {
   "cell_type": "markdown",
   "metadata": {},
   "source": [
    "**My Answer:**\n",
    "- I would say no because:\n",
    "    1. Not all cost functions are convex, this means that it is possible for gradient descent to get stuck at a local minimum and never find the actual global minimum.\n",
    "    2. If the learning rate is too large, the algorithm may bypass the global minimum altogether.\n",
    "\n",
    "**Aurelien's Answer:**\n",
    "- If the optimization problem is convex (such as Linear Regression or Logistic Regression), and assuming the learning rate is not too high, then all Gradient Descent algorithms will approach the global optimum and end up producing fairly similar models. However, unless you gradually reduce the learning rate, Stochastic GD and Mini-batch GD will never truly converge; instead, they will keep jumping back and forth around the global optimum. This means that even if you let them run for a very long time, these Gradient Descent algorithms will produce slightly different models."
   ]
  },
  {
   "cell_type": "markdown",
   "metadata": {},
   "source": [
    "#### **5. Suppose you use batch gradient descent and you plot the validation error at every epoch. If you notice that the validation error consistently goes up, what is likely going on? How can you fix this?**"
   ]
  },
  {
   "cell_type": "markdown",
   "metadata": {},
   "source": [
    "**My Answer:**\n",
    "- This means that the model is overfitting the training data. i.e. it is generalizing very poorly to never before seen data. To fix this you need to provide more training data until the validation error reaches the training error. \n",
    "\n",
    "**Aurelien's Answer:**\n",
    "- If the validation error consistently goes up after every epoch, then one possibility is that the learning rate is too high and the algorithm is diverging. If the training error also goes up, then this is clearly the problem and you should reduce the learning rate. However, if the training error is not going up, then your model is overfitting the training set and you should stop training."
   ]
  },
  {
   "cell_type": "markdown",
   "metadata": {},
   "source": [
    "#### **6. Is it a good idea to stop mini-batch gradient descent immediately when the validation error goes up?**\n",
    "\n",
    "**My Answer:**\n",
    "- Since mini-batch gradient descent randomizes the instances used in its calculation, you are not guaranteed to see improvements in the cost function. Stopping it immediately would likely be very premature.\n",
    "\n",
    "**Aurelien's Answer:**\n",
    "- Due to their random nature, neither Stochastic Gradient Descent nor Mini-batch Gradient Descent is guaranteed to make progress at every single training iteration. So if you immediately stop training when the validation error goes up, you may stop much too early, before the optimum is reached. A better option is to save the model at regular intervals; then, when it has not improved for a long time (meaning it will probably never beat the record), you can revert to the best saved model."
   ]
  },
  {
   "cell_type": "markdown",
   "metadata": {},
   "source": [
    "#### **7. Which gradient descent algorithm (among those discussed) will reach the vicinity of the optimal solution the fastest? Which will actually converge? How can you make the others converge as well?**"
   ]
  },
  {
   "cell_type": "markdown",
   "metadata": {},
   "source": [
    "**My Answer:**\n",
    "- Stochastic or mini-batch gradient descent, with early-stopping implemented will likely reach the vicinity of the optimal solution the fastest.\n",
    "- Generic, and batch gradient descent will actually converge. We can make stochastic and mini-batch GD converge by implementing early stopping (stopping the algorithm after the validation error has been above the minimum for some time, then rolling back the model parameters to the point where the validation error was at a minimum.)\n",
    "\n",
    "**Aurelien's Answer:**\n",
    "- Stochastic Gradient Descent has the fastest training iteration since it considers only one training instance at a time, so it is generally the first to reach the vicinity of the global optimum (or Mini-batch GD with a very small mini-batch size). However, only Batch Gradient Descent will actually converge, given enough training time. As mentioned, Stochastic GD and Mini-batch GD will bounce around the optimum, unless you gradually reduce the learning rate."
   ]
  },
  {
   "cell_type": "markdown",
   "metadata": {},
   "source": [
    "#### **8. Suppose you are using polynomial regression. You plot the learning curves and you notice that there is a large gap between the training error and the validation error. What is happening? What are three ways to solve this?**"
   ]
  },
  {
   "cell_type": "markdown",
   "metadata": {},
   "source": [
    "**My Answer:**\n",
    "- If the training error is lower than the validation error, then the model is likely overfitting. Meaning that it is generalizing poorly to the never-before-seen instances in the validation set (akin to memorizing the training data instances).\n",
    "- Three ways to solve this:\n",
    "    1. Increase the amount of data used to train the model.\n",
    "    2. Reduce the number of degrees in your polynomial regression model. i.e. make the model simpler.\n",
    "    3. Finally, you can regularize the model by implementing ridge or lasso regression (introducing a penalty to the cost function).\n",
    "\n",
    "**Aurelien's Answer:**\n",
    "- If the validation error is much higher than the training error, this is likely because your model is overfitting the training set. One way to try to fix this is to reduce the polynomial degree: a model with fewer degrees of freedom is less likely to overfit. Another thing you can try is to regularize the model—for example, by adding an ℓ₂ penalty (Ridge) or an ℓ₁ penalty (Lasso) to the cost function. This will also reduce the degrees of freedom of the model. Lastly, you can try to increase the size of the training set."
   ]
  },
  {
   "cell_type": "markdown",
   "metadata": {},
   "source": [
    "#### **9. Suppose you are using ridge regression and you notice that the training error and the validation error are almost equal and fairly high. Would you say that the model suffers from high bias or high variance? Should you increase the regularization hyperparameter $\\alpha$ or reduce it?**"
   ]
  },
  {
   "cell_type": "markdown",
   "metadata": {},
   "source": [
    "**My Answer:**\n",
    "- If both the training and validation error are high, you would want to reduce the regularization hyperparameter. This is because the model is likely underfitting, and reducing the regularization hyperparameter will result in less shrinkage of the features of the model (i.e. it will increase the importance of the features thus making the model more complex and more capable of fitting the model appropriately). The model also likely has high bias: *wrong assumptions about the data e.g. assuming the data is linear when it is actually quadratic*.\n",
    "\n",
    "**Aurelien's Answer:**\n",
    "- If both the training error and the validation error are almost equal and fairly high, the model is likely underfitting the training set, which means it has a high bias. You should try reducing the regularization hyperparameter α."
   ]
  },
  {
   "cell_type": "markdown",
   "metadata": {},
   "source": [
    "#### **10. Why would you want to use:**\n",
    "##### **a. Ridge regression instead of plain linear regression (i.e., without any regularization)?**\n",
    "##### **b. Lasso instead of ridge regression?**\n",
    "##### **c. Elastic net instead of lasso regression?**"
   ]
  },
  {
   "cell_type": "markdown",
   "metadata": {},
   "source": [
    "**My Answer:** <br>\n",
    "a. You would prefer a regression model with at least a little bit of regularization in general, to avoid overfitting, so ridge is generally speaking better than plain linear regression. <br>\n",
    "b. Lasso regression would be preferred over ridge regression if you suspect that there are only a few useful features in your dataset. This is because lasso regression tends to reduce the useless features' weights down to zero. <br>\n",
    "c. Elastic net is preferred over lasso regression because it performs better when there are more features than training instances, or when several features are very strongly correlated.\n",
    "\n",
    "**Aurelien's Answer:**\n",
    "- Let's see:\n",
    "    - A model with some regularization typically performs better than a model without any regularization, so you should generally prefer Ridge Regression over plain Linear Regression.\n",
    "    - Lasso Regression uses an ℓ₁ penalty, which tends to push the weights down to exactly zero. This leads to sparse models, where all weights are zero except for the most important weights. This is a way to perform feature selection automatically, which is good if you suspect that only a few features actually matter. When you are not sure, you should prefer Ridge Regression.\n",
    "    - Elastic Net is generally preferred over Lasso since Lasso may behave erratically in some cases (when several features are strongly correlated or when there are more features than training instances). However, it does add an extra hyperparameter to tune. If you want Lasso without the erratic behavior, you can just use Elastic Net with an l1_ratio close to 1."
   ]
  },
  {
   "cell_type": "markdown",
   "metadata": {},
   "source": [
    "#### **11. Suppose you want to classify pictures as outdoor / indoor and daytime/nighttime. Should you implement two logistic regression classifiers or one softmax regression classifier?**"
   ]
  },
  {
   "cell_type": "markdown",
   "metadata": {},
   "source": [
    "**My Answer:**\n",
    "- You should use two logistic regression classifiers: 1st one for outdoor / indoor, and the 2nd one for daytime / nighttime. This is because the softmax classifier only works for mutually exclusive classes. i.e. one softmax classifier will only be able to classify instances into **one** of the four classes.\n",
    "\n",
    "**Aurelien's Answer:**\n",
    "- If you want to classify pictures as outdoor/indoor and daytime/nighttime, since these are not exclusive classes (i.e., all four combinations are possible) you should train two Logistic Regression classifiers."
   ]
  },
  {
   "cell_type": "markdown",
   "metadata": {},
   "source": []
  }
 ],
 "metadata": {
  "language_info": {
   "name": "python"
  }
 },
 "nbformat": 4,
 "nbformat_minor": 2
}
