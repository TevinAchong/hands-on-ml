{
 "cells": [
  {
   "cell_type": "markdown",
   "metadata": {},
   "source": [
    "#### **1. Which linear regression algorithm can you use if you have a training set with millions of features?**"
   ]
  },
  {
   "cell_type": "markdown",
   "metadata": {},
   "source": [
    "- I would say Lasso regression. This is because through training, lasso regression tends to eliminate the weights of the least important features (i.e. set them to zero).\n",
    "- To train this model, you can use an applicable form of *gradient descent*: stochastic, mini-batch or batch (if the training set can fit in memory).\n",
    "- You **cannot** use the Normal Equation or the SVD approach because the computational complexity grows quickly."
   ]
  },
  {
   "cell_type": "markdown",
   "metadata": {},
   "source": [
    "#### **2. Suppose the features in your training set have very different scales. Which alogorithms might suffer from this and how? What can you do about it?**"
   ]
  },
  {
   "cell_type": "markdown",
   "metadata": {},
   "source": [
    "**My Answer:**\n",
    "- Any regularized regression models will suffer: ridge regression, lasso regression, and elastic net regression. \n",
    "- This is because these algorithms are very sensitive to the scale of the input features. \n",
    "- To mitigate this, we can performing feature scaling (e.g. using Sklearn's `StandardScaler`).\n",
    "\n",
    "**Aurelien's Answer:**\n",
    "- If the features in your training set have very different scales, the cost function will have the shape of an elongated bowl, so the Gradient Descent algorithms will take a long time to converge. To solve this you should scale the data before training the model. Note that the Normal Equation or SVD approach will work just fine without scaling. Moreover, regularized models may converge to a suboptimal solution if the features are not scaled: since regularization penalizes large weights, features with smaller values will tend to be ignored compared to features with larger values."
   ]
  },
  {
   "cell_type": "markdown",
   "metadata": {},
   "source": [
    "#### **3. Can gradient descent get stuck in a local minimum when training a logistic regression model?**\n",
    "\n",
    "**My answer:**\n",
    "- No. The cost function for logistic regression is convex. Meaning that gradient descent is guaranteed to find the global minimum. \n",
    "\n",
    "**Aurelien's Answer:**\n",
    "- Gradient Descent cannot get stuck in a local minimum when training a Logistic Regression model because the cost function is convex. Convex means that if you draw a straight line between any two points on the curve, the line never crosses the curve."
   ]
  },
  {
   "cell_type": "markdown",
   "metadata": {},
   "source": [
    "### **4. Do all gradient descent algorithms lead to the same model, provided you let them run long enough?**"
   ]
  },
  {
   "cell_type": "markdown",
   "metadata": {},
   "source": [
    "**My answer:**\n",
    "- I would say no because:\n",
    "    1. Not all cost functions are convex, this means that it is possible for gradient descent to get stuck at a local minimum and never find the actual global minimum.\n",
    "    2. If the learning rate is too large, the algorithm may bypass the global minimum altogether."
   ]
  },
  {
   "cell_type": "markdown",
   "metadata": {},
   "source": []
  }
 ],
 "metadata": {
  "language_info": {
   "name": "python"
  }
 },
 "nbformat": 4,
 "nbformat_minor": 2
}
