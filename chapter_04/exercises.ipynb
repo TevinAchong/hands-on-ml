{
 "cells": [
  {
   "cell_type": "markdown",
   "metadata": {},
   "source": [
    "**1. Which linear regression algorithm can you use if you have a training set with millions of features?**"
   ]
  },
  {
   "cell_type": "markdown",
   "metadata": {},
   "source": [
    "- I would say Lasso regression. This is because through training, lasso regression tends to eliminate the weights of the least important features (i.e. set them to zero).\n",
    "- To train this model, you can use an applicable form of *gradient descent*: stochastic, mini-batch or batch (if the training set can fit in memory).\n",
    "- You **cannot** use the Normal Equation or the SVD approach because the computational complexity grows quickly."
   ]
  },
  {
   "cell_type": "markdown",
   "metadata": {},
   "source": [
    "**2. Suppose the features in your training set have very different scales. Which alogorithms might suffer from this and how? What can you do about it?**"
   ]
  },
  {
   "cell_type": "markdown",
   "metadata": {},
   "source": []
  }
 ],
 "metadata": {
  "language_info": {
   "name": "python"
  }
 },
 "nbformat": 4,
 "nbformat_minor": 2
}
