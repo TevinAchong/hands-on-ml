{
 "cells": [
  {
   "cell_type": "code",
   "execution_count": 115,
   "metadata": {},
   "outputs": [],
   "source": [
    "from sklearn.datasets import fetch_openml\n",
    "mnist = fetch_openml(\"mnist_784\", as_frame=False)\n",
    "\n",
    "X, y = mnist.data, mnist.target"
   ]
  },
  {
   "cell_type": "code",
   "execution_count": 116,
   "metadata": {},
   "outputs": [],
   "source": [
    "import matplotlib.pyplot as plt\n",
    "\n",
    "def plot_digit(image_data):\n",
    "    image = image_data.reshape(28, 28)\n",
    "    plt.imshow(image, cmap=\"binary\")\n",
    "    plt.axis(\"off\")"
   ]
  },
  {
   "cell_type": "code",
   "execution_count": 117,
   "metadata": {},
   "outputs": [
    {
     "data": {
      "image/png": "[encoded data removed]",
      "text/plain": [
       "<Figure size 640x480 with 1 Axes>"
      ]
     },
     "metadata": {},
     "output_type": "display_data"
    }
   ],
   "source": [
    "plot_digit(X[25])"
   ]
  },
  {
   "cell_type": "code",
   "execution_count": 118,
   "metadata": {},
   "outputs": [],
   "source": [
    "def shift_digit_by_one_pixel(digit_vector, direction='up'):\n",
    "    \n",
    "    digit_img_pixels = digit_vector.copy().reshape(28, 28)\n",
    "    \n",
    "    if direction == 'up':\n",
    "        start = digit_img_pixels[0]\n",
    "\n",
    "        for i in range(0, len(digit_img_pixels)-1):\n",
    "            digit_img_pixels[i] = digit_img_pixels[i+1]\n",
    "        \n",
    "        digit_img_pixels[27] = start\n",
    "\n",
    "\n",
    "    elif direction == 'down':\n",
    "        start = digit_img_pixels[27]\n",
    "\n",
    "        for i in range(len(digit_img_pixels)-1, 0, -1):\n",
    "            digit_img_pixels[i] = digit_img_pixels[i-1]\n",
    "        \n",
    "        digit_img_pixels[0] = start\n",
    "\n",
    "    elif direction == 'left':\n",
    "        digit_img_pixels = digit_img_pixels.T\n",
    "        start = digit_img_pixels[0]\n",
    "\n",
    "        for i in range(0, len(digit_img_pixels)-1):\n",
    "            digit_img_pixels[i] = digit_img_pixels[i+1]\n",
    "        \n",
    "        digit_img_pixels[27] = start\n",
    "        digit_img_pixels = digit_img_pixels.T\n",
    "\n",
    "    else:\n",
    "        digit_img_pixels = digit_img_pixels.T\n",
    "        start = digit_img_pixels[27]\n",
    "\n",
    "        for i in range(len(digit_img_pixels)-1, 0, -1):\n",
    "            digit_img_pixels[i] = digit_img_pixels[i-1]\n",
    "        \n",
    "        digit_img_pixels[0] = start\n",
    "        digit_img_pixels = digit_img_pixels.T\n",
    "\n",
    "    return digit_img_pixels"
   ]
  },
  {
   "cell_type": "code",
   "execution_count": 119,
   "metadata": {},
   "outputs": [],
   "source": [
    "test_img = X[900]\n",
    "for i in range(5):\n",
    "    test_img = shift_digit_by_one_pixel(test_img, 'down')"
   ]
  },
  {
   "cell_type": "code",
   "execution_count": 120,
   "metadata": {},
   "outputs": [
    {
     "data": {
      "image/png": "[encoded data removed]",
      "text/plain": [
       "<Figure size 640x480 with 1 Axes>"
      ]
     },
     "metadata": {},
     "output_type": "display_data"
    }
   ],
   "source": [
    "plot_digit(test_img)"
   ]
  },
  {
   "cell_type": "code",
   "execution_count": null,
   "metadata": {},
   "outputs": [],
   "source": []
  }
 ],
 "metadata": {
  "kernelspec": {
   "display_name": "venv",
   "language": "python",
   "name": "python3"
  },
  "language_info": {
   "codemirror_mode": {
    "name": "ipython",
    "version": 3
   },
   "file_extension": ".py",
   "mimetype": "text/x-python",
   "name": "python",
   "nbconvert_exporter": "python",
   "pygments_lexer": "ipython3",
   "version": "3.10.2"
  }
 },
 "nbformat": 4,
 "nbformat_minor": 2
}
