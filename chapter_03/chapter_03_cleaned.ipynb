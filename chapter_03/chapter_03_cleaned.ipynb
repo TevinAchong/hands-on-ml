{
 "cells": [
  {
   "cell_type": "markdown",
   "metadata": {},
   "source": [
    "# Obtaining the MNIST dataset"
   ]
  },
  {
   "cell_type": "code",
   "execution_count": 1,
   "metadata": {},
   "outputs": [],
   "source": [
    "from sklearn.datasets import fetch_openml\n",
    "mnist = fetch_openml(\"mnist_784\", as_frame=False)"
   ]
  },
  {
   "cell_type": "code",
   "execution_count": 2,
   "metadata": {},
   "outputs": [],
   "source": [
    "X, y = mnist.data, mnist.target"
   ]
  },
  {
   "cell_type": "code",
   "execution_count": 3,
   "metadata": {},
   "outputs": [
    {
     "name": "stdout",
     "output_type": "stream",
     "text": [
      "Shape of the training data: (70000, 784)\n"
     ]
    }
   ],
   "source": [
    "print(f\"Shape of the training data: {X.shape}\")"
   ]
  },
  {
   "cell_type": "code",
   "execution_count": 4,
   "metadata": {},
   "outputs": [],
   "source": [
    "# Utility function to print an image from the dataset\n",
    "import matplotlib.pyplot as plt\n",
    "\n",
    "def plot_digit(image_data):\n",
    "    image = image_data.reshape(28, 28)\n",
    "    plt.imshow(image, cmap=\"binary\")\n",
    "    plt.axis(\"off\")"
   ]
  },
  {
   "cell_type": "code",
   "execution_count": 5,
   "metadata": {},
   "outputs": [
    {
     "name": "stdout",
     "output_type": "stream",
     "text": [
      "random_digit looks like this: (784,)\n",
      "There is one row 784 values. Each value represents the intensity of a specific pixel.\n"
     ]
    }
   ],
   "source": [
    "random_digit_idx = 123\n",
    "random_digit = X[random_digit_idx]\n",
    "print(f\"random_digit looks like this: {random_digit.shape}\")\n",
    "print(\"There is one row 784 values. Each value represents the intensity of a specific pixel.\")"
   ]
  },
  {
   "cell_type": "code",
   "execution_count": 6,
   "metadata": {},
   "outputs": [
    {
     "name": "stdout",
     "output_type": "stream",
     "text": [
      "The image looks like the below, and based on the label it is actually a 7\n"
     ]
    },
    {
     "data": {
      "image/png": "[encoded data removed]",
      "text/plain": [
       "<Figure size 640x480 with 1 Axes>"
      ]
     },
     "metadata": {},
     "output_type": "display_data"
    }
   ],
   "source": [
    "plot_digit(random_digit)\n",
    "print(f\"The image looks like the below, and based on the label it is actually a {y[123]}\")"
   ]
  },
  {
   "cell_type": "code",
   "execution_count": 7,
   "metadata": {},
   "outputs": [],
   "source": [
    "# Splitting into training and test set\n",
    "# MNIST automatically handles the shuffling and any stratification by default\n",
    "X_train, X_test, y_train, y_test = X[:60000], X[60000:], y[:60000], y[60000:]"
   ]
  },
  {
   "cell_type": "markdown",
   "metadata": {},
   "source": [
    "# Training a Binary Classifier (7 or Not 7)"
   ]
  },
  {
   "cell_type": "code",
   "execution_count": 8,
   "metadata": {},
   "outputs": [
    {
     "name": "stdout",
     "output_type": "stream",
     "text": [
      "(60000,)\n",
      "Total number of 7s: 6265\n",
      "Total number of not 7s: 53735\n"
     ]
    }
   ],
   "source": [
    "y_train_7 = (y_train == '7')\n",
    "print(y_train_7.shape) # we see that it maintains the same shape, but just has false \n",
    "# for every instance that is not a 7\n",
    "\n",
    "idx_7 = []\n",
    "idx_not_7 = []\n",
    "for i in range(len(y_train_7)):\n",
    "    if y_train_7[i] == True:\n",
    "        idx_7.append(i)\n",
    "    else:\n",
    "        idx_not_7.append(i)\n",
    "\n",
    "print(f\"Total number of 7s: {len(idx_7)}\")\n",
    "print(f\"Total number of not 7s: {len(idx_not_7)}\")"
   ]
  },
  {
   "cell_type": "markdown",
   "metadata": {},
   "source": [
    "### How a Stochastic Gradient (SGD) classifier works\n",
    "- Computes a score based on a decision function.\n",
    "- If that score is greater than some threshold, it assigns the instance to the positive class. \n",
    "- Otherwise, it assigns the negative class."
   ]
  },
  {
   "cell_type": "code",
   "execution_count": 9,
   "metadata": {},
   "outputs": [
    {
     "data": {
      "text/html": [
       "<style>#sk-container-id-1 {\n",
       "  /* Definition of color scheme common for light and dark mode */\n",
       "  --sklearn-color-text: black;\n",
       "  --sklearn-color-line: gray;\n",
       "  /* Definition of color scheme for unfitted estimators */\n",
       "  --sklearn-color-unfitted-level-0: #fff5e6;\n",
       "  --sklearn-color-unfitted-level-1: #f6e4d2;\n",
       "  --sklearn-color-unfitted-level-2: #ffe0b3;\n",
       "  --sklearn-color-unfitted-level-3: chocolate;\n",
       "  /* Definition of color scheme for fitted estimators */\n",
       "  --sklearn-color-fitted-level-0: #f0f8ff;\n",
       "  --sklearn-color-fitted-level-1: #d4ebff;\n",
       "  --sklearn-color-fitted-level-2: #b3dbfd;\n",
       "  --sklearn-color-fitted-level-3: cornflowerblue;\n",
       "\n",
       "  /* Specific color for light theme */\n",
       "  --sklearn-color-text-on-default-background: var(--sg-text-color, var(--theme-code-foreground, var(--jp-content-font-color1, black)));\n",
       "  --sklearn-color-background: var(--sg-background-color, var(--theme-background, var(--jp-layout-color0, white)));\n",
       "  --sklearn-color-border-box: var(--sg-text-color, var(--theme-code-foreground, var(--jp-content-font-color1, black)));\n",
       "  --sklearn-color-icon: #696969;\n",
       "\n",
       "  @media (prefers-color-scheme: dark) {\n",
       "    /* Redefinition of color scheme for dark theme */\n",
       "    --sklearn-color-text-on-default-background: var(--sg-text-color, var(--theme-code-foreground, var(--jp-content-font-color1, white)));\n",
       "    --sklearn-color-background: var(--sg-background-color, var(--theme-background, var(--jp-layout-color0, #111)));\n",
       "    --sklearn-color-border-box: var(--sg-text-color, var(--theme-code-foreground, var(--jp-content-font-color1, white)));\n",
       "    --sklearn-color-icon: #878787;\n",
       "  }\n",
       "}\n",
       "\n",
       "#sk-container-id-1 {\n",
       "  color: var(--sklearn-color-text);\n",
       "}\n",
       "\n",
       "#sk-container-id-1 pre {\n",
       "  padding: 0;\n",
       "}\n",
       "\n",
       "#sk-container-id-1 input.sk-hidden--visually {\n",
       "  border: 0;\n",
       "  clip: rect(1px 1px 1px 1px);\n",
       "  clip: rect(1px, 1px, 1px, 1px);\n",
       "  height: 1px;\n",
       "  margin: -1px;\n",
       "  overflow: hidden;\n",
       "  padding: 0;\n",
       "  position: absolute;\n",
       "  width: 1px;\n",
       "}\n",
       "\n",
       "#sk-container-id-1 div.sk-dashed-wrapped {\n",
       "  border: 1px dashed var(--sklearn-color-line);\n",
       "  margin: 0 0.4em 0.5em 0.4em;\n",
       "  box-sizing: border-box;\n",
       "  padding-bottom: 0.4em;\n",
       "  background-color: var(--sklearn-color-background);\n",
       "}\n",
       "\n",
       "#sk-container-id-1 div.sk-container {\n",
       "  /* jupyter's `normalize.less` sets `[hidden] { display: none; }`\n",
       "     but bootstrap.min.css set `[hidden] { display: none !important; }`\n",
       "     so we also need the `!important` here to be able to override the\n",
       "     default hidden behavior on the sphinx rendered scikit-learn.org.\n",
       "     See: https://github.com/scikit-learn/scikit-learn/issues/21755 */\n",
       "  display: inline-block !important;\n",
       "  position: relative;\n",
       "}\n",
       "\n",
       "#sk-container-id-1 div.sk-text-repr-fallback {\n",
       "  display: none;\n",
       "}\n",
       "\n",
       "div.sk-parallel-item,\n",
       "div.sk-serial,\n",
       "div.sk-item {\n",
       "  /* draw centered vertical line to link estimators */\n",
       "  background-image: linear-gradient(var(--sklearn-color-text-on-default-background), var(--sklearn-color-text-on-default-background));\n",
       "  background-size: 2px 100%;\n",
       "  background-repeat: no-repeat;\n",
       "  background-position: center center;\n",
       "}\n",
       "\n",
       "/* Parallel-specific style estimator block */\n",
       "\n",
       "#sk-container-id-1 div.sk-parallel-item::after {\n",
       "  content: \"\";\n",
       "  width: 100%;\n",
       "  border-bottom: 2px solid var(--sklearn-color-text-on-default-background);\n",
       "  flex-grow: 1;\n",
       "}\n",
       "\n",
       "#sk-container-id-1 div.sk-parallel {\n",
       "  display: flex;\n",
       "  align-items: stretch;\n",
       "  justify-content: center;\n",
       "  background-color: var(--sklearn-color-background);\n",
       "  position: relative;\n",
       "}\n",
       "\n",
       "#sk-container-id-1 div.sk-parallel-item {\n",
       "  display: flex;\n",
       "  flex-direction: column;\n",
       "}\n",
       "\n",
       "#sk-container-id-1 div.sk-parallel-item:first-child::after {\n",
       "  align-self: flex-end;\n",
       "  width: 50%;\n",
       "}\n",
       "\n",
       "#sk-container-id-1 div.sk-parallel-item:last-child::after {\n",
       "  align-self: flex-start;\n",
       "  width: 50%;\n",
       "}\n",
       "\n",
       "#sk-container-id-1 div.sk-parallel-item:only-child::after {\n",
       "  width: 0;\n",
       "}\n",
       "\n",
       "/* Serial-specific style estimator block */\n",
       "\n",
       "#sk-container-id-1 div.sk-serial {\n",
       "  display: flex;\n",
       "  flex-direction: column;\n",
       "  align-items: center;\n",
       "  background-color: var(--sklearn-color-background);\n",
       "  padding-right: 1em;\n",
       "  padding-left: 1em;\n",
       "}\n",
       "\n",
       "\n",
       "/* Toggleable style: style used for estimator/Pipeline/ColumnTransformer box that is\n",
       "clickable and can be expanded/collapsed.\n",
       "- Pipeline and ColumnTransformer use this feature and define the default style\n",
       "- Estimators will overwrite some part of the style using the `sk-estimator` class\n",
       "*/\n",
       "\n",
       "/* Pipeline and ColumnTransformer style (default) */\n",
       "\n",
       "#sk-container-id-1 div.sk-toggleable {\n",
       "  /* Default theme specific background. It is overwritten whether we have a\n",
       "  specific estimator or a Pipeline/ColumnTransformer */\n",
       "  background-color: var(--sklearn-color-background);\n",
       "}\n",
       "\n",
       "/* Toggleable label */\n",
       "#sk-container-id-1 label.sk-toggleable__label {\n",
       "  cursor: pointer;\n",
       "  display: block;\n",
       "  width: 100%;\n",
       "  margin-bottom: 0;\n",
       "  padding: 0.5em;\n",
       "  box-sizing: border-box;\n",
       "  text-align: center;\n",
       "}\n",
       "\n",
       "#sk-container-id-1 label.sk-toggleable__label-arrow:before {\n",
       "  /* Arrow on the left of the label */\n",
       "  content: \"▸\";\n",
       "  float: left;\n",
       "  margin-right: 0.25em;\n",
       "  color: var(--sklearn-color-icon);\n",
       "}\n",
       "\n",
       "#sk-container-id-1 label.sk-toggleable__label-arrow:hover:before {\n",
       "  color: var(--sklearn-color-text);\n",
       "}\n",
       "\n",
       "/* Toggleable content - dropdown */\n",
       "\n",
       "#sk-container-id-1 div.sk-toggleable__content {\n",
       "  max-height: 0;\n",
       "  max-width: 0;\n",
       "  overflow: hidden;\n",
       "  text-align: left;\n",
       "  /* unfitted */\n",
       "  background-color: var(--sklearn-color-unfitted-level-0);\n",
       "}\n",
       "\n",
       "#sk-container-id-1 div.sk-toggleable__content.fitted {\n",
       "  /* fitted */\n",
       "  background-color: var(--sklearn-color-fitted-level-0);\n",
       "}\n",
       "\n",
       "#sk-container-id-1 div.sk-toggleable__content pre {\n",
       "  margin: 0.2em;\n",
       "  border-radius: 0.25em;\n",
       "  color: var(--sklearn-color-text);\n",
       "  /* unfitted */\n",
       "  background-color: var(--sklearn-color-unfitted-level-0);\n",
       "}\n",
       "\n",
       "#sk-container-id-1 div.sk-toggleable__content.fitted pre {\n",
       "  /* unfitted */\n",
       "  background-color: var(--sklearn-color-fitted-level-0);\n",
       "}\n",
       "\n",
       "#sk-container-id-1 input.sk-toggleable__control:checked~div.sk-toggleable__content {\n",
       "  /* Expand drop-down */\n",
       "  max-height: 200px;\n",
       "  max-width: 100%;\n",
       "  overflow: auto;\n",
       "}\n",
       "\n",
       "#sk-container-id-1 input.sk-toggleable__control:checked~label.sk-toggleable__label-arrow:before {\n",
       "  content: \"▾\";\n",
       "}\n",
       "\n",
       "/* Pipeline/ColumnTransformer-specific style */\n",
       "\n",
       "#sk-container-id-1 div.sk-label input.sk-toggleable__control:checked~label.sk-toggleable__label {\n",
       "  color: var(--sklearn-color-text);\n",
       "  background-color: var(--sklearn-color-unfitted-level-2);\n",
       "}\n",
       "\n",
       "#sk-container-id-1 div.sk-label.fitted input.sk-toggleable__control:checked~label.sk-toggleable__label {\n",
       "  background-color: var(--sklearn-color-fitted-level-2);\n",
       "}\n",
       "\n",
       "/* Estimator-specific style */\n",
       "\n",
       "/* Colorize estimator box */\n",
       "#sk-container-id-1 div.sk-estimator input.sk-toggleable__control:checked~label.sk-toggleable__label {\n",
       "  /* unfitted */\n",
       "  background-color: var(--sklearn-color-unfitted-level-2);\n",
       "}\n",
       "\n",
       "#sk-container-id-1 div.sk-estimator.fitted input.sk-toggleable__control:checked~label.sk-toggleable__label {\n",
       "  /* fitted */\n",
       "  background-color: var(--sklearn-color-fitted-level-2);\n",
       "}\n",
       "\n",
       "#sk-container-id-1 div.sk-label label.sk-toggleable__label,\n",
       "#sk-container-id-1 div.sk-label label {\n",
       "  /* The background is the default theme color */\n",
       "  color: var(--sklearn-color-text-on-default-background);\n",
       "}\n",
       "\n",
       "/* On hover, darken the color of the background */\n",
       "#sk-container-id-1 div.sk-label:hover label.sk-toggleable__label {\n",
       "  color: var(--sklearn-color-text);\n",
       "  background-color: var(--sklearn-color-unfitted-level-2);\n",
       "}\n",
       "\n",
       "/* Label box, darken color on hover, fitted */\n",
       "#sk-container-id-1 div.sk-label.fitted:hover label.sk-toggleable__label.fitted {\n",
       "  color: var(--sklearn-color-text);\n",
       "  background-color: var(--sklearn-color-fitted-level-2);\n",
       "}\n",
       "\n",
       "/* Estimator label */\n",
       "\n",
       "#sk-container-id-1 div.sk-label label {\n",
       "  font-family: monospace;\n",
       "  font-weight: bold;\n",
       "  display: inline-block;\n",
       "  line-height: 1.2em;\n",
       "}\n",
       "\n",
       "#sk-container-id-1 div.sk-label-container {\n",
       "  text-align: center;\n",
       "}\n",
       "\n",
       "/* Estimator-specific */\n",
       "#sk-container-id-1 div.sk-estimator {\n",
       "  font-family: monospace;\n",
       "  border: 1px dotted var(--sklearn-color-border-box);\n",
       "  border-radius: 0.25em;\n",
       "  box-sizing: border-box;\n",
       "  margin-bottom: 0.5em;\n",
       "  /* unfitted */\n",
       "  background-color: var(--sklearn-color-unfitted-level-0);\n",
       "}\n",
       "\n",
       "#sk-container-id-1 div.sk-estimator.fitted {\n",
       "  /* fitted */\n",
       "  background-color: var(--sklearn-color-fitted-level-0);\n",
       "}\n",
       "\n",
       "/* on hover */\n",
       "#sk-container-id-1 div.sk-estimator:hover {\n",
       "  /* unfitted */\n",
       "  background-color: var(--sklearn-color-unfitted-level-2);\n",
       "}\n",
       "\n",
       "#sk-container-id-1 div.sk-estimator.fitted:hover {\n",
       "  /* fitted */\n",
       "  background-color: var(--sklearn-color-fitted-level-2);\n",
       "}\n",
       "\n",
       "/* Specification for estimator info (e.g. \"i\" and \"?\") */\n",
       "\n",
       "/* Common style for \"i\" and \"?\" */\n",
       "\n",
       ".sk-estimator-doc-link,\n",
       "a:link.sk-estimator-doc-link,\n",
       "a:visited.sk-estimator-doc-link {\n",
       "  float: right;\n",
       "  font-size: smaller;\n",
       "  line-height: 1em;\n",
       "  font-family: monospace;\n",
       "  background-color: var(--sklearn-color-background);\n",
       "  border-radius: 1em;\n",
       "  height: 1em;\n",
       "  width: 1em;\n",
       "  text-decoration: none !important;\n",
       "  margin-left: 1ex;\n",
       "  /* unfitted */\n",
       "  border: var(--sklearn-color-unfitted-level-1) 1pt solid;\n",
       "  color: var(--sklearn-color-unfitted-level-1);\n",
       "}\n",
       "\n",
       ".sk-estimator-doc-link.fitted,\n",
       "a:link.sk-estimator-doc-link.fitted,\n",
       "a:visited.sk-estimator-doc-link.fitted {\n",
       "  /* fitted */\n",
       "  border: var(--sklearn-color-fitted-level-1) 1pt solid;\n",
       "  color: var(--sklearn-color-fitted-level-1);\n",
       "}\n",
       "\n",
       "/* On hover */\n",
       "div.sk-estimator:hover .sk-estimator-doc-link:hover,\n",
       ".sk-estimator-doc-link:hover,\n",
       "div.sk-label-container:hover .sk-estimator-doc-link:hover,\n",
       ".sk-estimator-doc-link:hover {\n",
       "  /* unfitted */\n",
       "  background-color: var(--sklearn-color-unfitted-level-3);\n",
       "  color: var(--sklearn-color-background);\n",
       "  text-decoration: none;\n",
       "}\n",
       "\n",
       "div.sk-estimator.fitted:hover .sk-estimator-doc-link.fitted:hover,\n",
       ".sk-estimator-doc-link.fitted:hover,\n",
       "div.sk-label-container:hover .sk-estimator-doc-link.fitted:hover,\n",
       ".sk-estimator-doc-link.fitted:hover {\n",
       "  /* fitted */\n",
       "  background-color: var(--sklearn-color-fitted-level-3);\n",
       "  color: var(--sklearn-color-background);\n",
       "  text-decoration: none;\n",
       "}\n",
       "\n",
       "/* Span, style for the box shown on hovering the info icon */\n",
       ".sk-estimator-doc-link span {\n",
       "  display: none;\n",
       "  z-index: 9999;\n",
       "  position: relative;\n",
       "  font-weight: normal;\n",
       "  right: .2ex;\n",
       "  padding: .5ex;\n",
       "  margin: .5ex;\n",
       "  width: min-content;\n",
       "  min-width: 20ex;\n",
       "  max-width: 50ex;\n",
       "  color: var(--sklearn-color-text);\n",
       "  box-shadow: 2pt 2pt 4pt #999;\n",
       "  /* unfitted */\n",
       "  background: var(--sklearn-color-unfitted-level-0);\n",
       "  border: .5pt solid var(--sklearn-color-unfitted-level-3);\n",
       "}\n",
       "\n",
       ".sk-estimator-doc-link.fitted span {\n",
       "  /* fitted */\n",
       "  background: var(--sklearn-color-fitted-level-0);\n",
       "  border: var(--sklearn-color-fitted-level-3);\n",
       "}\n",
       "\n",
       ".sk-estimator-doc-link:hover span {\n",
       "  display: block;\n",
       "}\n",
       "\n",
       "/* \"?\"-specific style due to the `<a>` HTML tag */\n",
       "\n",
       "#sk-container-id-1 a.estimator_doc_link {\n",
       "  float: right;\n",
       "  font-size: 1rem;\n",
       "  line-height: 1em;\n",
       "  font-family: monospace;\n",
       "  background-color: var(--sklearn-color-background);\n",
       "  border-radius: 1rem;\n",
       "  height: 1rem;\n",
       "  width: 1rem;\n",
       "  text-decoration: none;\n",
       "  /* unfitted */\n",
       "  color: var(--sklearn-color-unfitted-level-1);\n",
       "  border: var(--sklearn-color-unfitted-level-1) 1pt solid;\n",
       "}\n",
       "\n",
       "#sk-container-id-1 a.estimator_doc_link.fitted {\n",
       "  /* fitted */\n",
       "  border: var(--sklearn-color-fitted-level-1) 1pt solid;\n",
       "  color: var(--sklearn-color-fitted-level-1);\n",
       "}\n",
       "\n",
       "/* On hover */\n",
       "#sk-container-id-1 a.estimator_doc_link:hover {\n",
       "  /* unfitted */\n",
       "  background-color: var(--sklearn-color-unfitted-level-3);\n",
       "  color: var(--sklearn-color-background);\n",
       "  text-decoration: none;\n",
       "}\n",
       "\n",
       "#sk-container-id-1 a.estimator_doc_link.fitted:hover {\n",
       "  /* fitted */\n",
       "  background-color: var(--sklearn-color-fitted-level-3);\n",
       "}\n",
       "</style><div id=\"sk-container-id-1\" class=\"sk-top-container\"><div class=\"sk-text-repr-fallback\"><pre>SGDClassifier(random_state=42)</pre><b>In a Jupyter environment, please rerun this cell to show the HTML representation or trust the notebook. <br />On GitHub, the HTML representation is unable to render, please try loading this page with nbviewer.org.</b></div><div class=\"sk-container\" hidden><div class=\"sk-item\"><div class=\"sk-estimator fitted sk-toggleable\"><input class=\"sk-toggleable__control sk-hidden--visually\" id=\"sk-estimator-id-1\" type=\"checkbox\" checked><label for=\"sk-estimator-id-1\" class=\"sk-toggleable__label fitted sk-toggleable__label-arrow fitted\">&nbsp;&nbsp;SGDClassifier<a class=\"sk-estimator-doc-link fitted\" rel=\"noreferrer\" target=\"_blank\" href=\"https://scikit-learn.org/1.4/modules/generated/sklearn.linear_model.SGDClassifier.html\">?<span>Documentation for SGDClassifier</span></a><span class=\"sk-estimator-doc-link fitted\">i<span>Fitted</span></span></label><div class=\"sk-toggleable__content fitted\"><pre>SGDClassifier(random_state=42)</pre></div> </div></div></div></div>"
      ],
      "text/plain": [
       "SGDClassifier(random_state=42)"
      ]
     },
     "execution_count": 9,
     "metadata": {},
     "output_type": "execute_result"
    }
   ],
   "source": [
    "from sklearn.linear_model import SGDClassifier\n",
    "\n",
    "sgd_clf = SGDClassifier(random_state=42)\n",
    "sgd_clf.fit(X_train, y_train_7)\n",
    "# 7 will be the positive class "
   ]
  },
  {
   "cell_type": "code",
   "execution_count": 10,
   "metadata": {},
   "outputs": [
    {
     "name": "stdout",
     "output_type": "stream",
     "text": [
      "The model identifies our random_digit as: Not 7.\n",
      "The random digit is actually a 7\n"
     ]
    }
   ],
   "source": [
    "# Testing if the model can correctly identify our random digit\n",
    "print(f\"The model identifies our random_digit as:\\\n",
    " {'7' if sgd_clf.predict([random_digit]) == False else 'Not 7.'}\")\n",
    "\n",
    "print(f\"The random digit is actually a {y_train[random_digit_idx]}\")"
   ]
  },
  {
   "cell_type": "code",
   "execution_count": 11,
   "metadata": {},
   "outputs": [
    {
     "name": "stdout",
     "output_type": "stream",
     "text": [
      "Model prediction: Not a 7.\n",
      "This instance is actually a: 9\n",
      "**************************************************\n",
      "Model Prediction: 7\n",
      "This instance is actually a: 7\n",
      "**************************************************\n",
      "Model prediction: Not a 7.\n",
      "This instance is actually a: 3\n",
      "**************************************************\n",
      "Model prediction: Not a 7.\n",
      "This instance is actually a: 6\n",
      "**************************************************\n",
      "Model Prediction: 7\n",
      "This instance is actually a: 7\n",
      "**************************************************\n",
      "Model prediction: Not a 7.\n",
      "This instance is actually a: 7\n",
      "**************************************************\n",
      "Model prediction: Not a 7.\n",
      "This instance is actually a: 0\n",
      "**************************************************\n",
      "Model prediction: Not a 7.\n",
      "This instance is actually a: 6\n",
      "**************************************************\n",
      "Model prediction: Not a 7.\n",
      "This instance is actually a: 8\n",
      "**************************************************\n",
      "Model prediction: Not a 7.\n",
      "This instance is actually a: 1\n",
      "**************************************************\n",
      "Model prediction: Not a 7.\n",
      "This instance is actually a: 6\n",
      "**************************************************\n",
      "Model prediction: Not a 7.\n",
      "This instance is actually a: 2\n",
      "**************************************************\n",
      "Model Prediction: 7\n",
      "This instance is actually a: 7\n",
      "**************************************************\n",
      "Model prediction: Not a 7.\n",
      "This instance is actually a: 8\n",
      "**************************************************\n",
      "Model prediction: Not a 7.\n",
      "This instance is actually a: 6\n",
      "**************************************************\n",
      "Model prediction: Not a 7.\n",
      "This instance is actually a: 1\n",
      "**************************************************\n",
      "Model prediction: Not a 7.\n",
      "This instance is actually a: 8\n",
      "**************************************************\n",
      "Model prediction: Not a 7.\n",
      "This instance is actually a: 8\n",
      "**************************************************\n",
      "Model prediction: Not a 7.\n",
      "This instance is actually a: 6\n",
      "**************************************************\n",
      "Model prediction: Not a 7.\n",
      "This instance is actually a: 4\n",
      "**************************************************\n"
     ]
    }
   ],
   "source": [
    "# Incorrect result for the random digit, so let us try a few more.\n",
    "import numpy as np\n",
    "\n",
    "rand_idxs = np.random.randint(1, 60000, size=20) #generate 20 random from the train set\n",
    "for rand_idx in rand_idxs:\n",
    "    if sgd_clf.predict([X_train[rand_idx]])[0] == False:\n",
    "        print(f\"Model prediction: Not a 7.\")\n",
    "    else:\n",
    "        print(f\"Model Prediction: 7\")\n",
    "    print(f\"This instance is actually a: {y_train[rand_idx]}\")\n",
    "    print('*'*50)"
   ]
  },
  {
   "cell_type": "markdown",
   "metadata": {},
   "source": [
    "# Measuring Accuracy Using Cross-Validation\n",
    "- At a glance, the model does not seem to be doing too poorly. \n",
    "- But we can use cross validation to get a measure of the accuracy."
   ]
  },
  {
   "cell_type": "code",
   "execution_count": 12,
   "metadata": {},
   "outputs": [],
   "source": [
    "from sklearn.model_selection import cross_val_score\n",
    "\n",
    "# Use 3 folds to \n",
    "accuracy_scores = cross_val_score(sgd_clf, X_train, y_train_7, cv=3, scoring='accuracy')"
   ]
  },
  {
   "cell_type": "code",
   "execution_count": 13,
   "metadata": {},
   "outputs": [
    {
     "name": "stdout",
     "output_type": "stream",
     "text": [
      "SGD Classifier:\n",
      "- Fold 1 accuracy: 98.1%\n",
      "- Fold 2 accuracy: 97.35%\n",
      "- Fold 3 accuracy: 95.34%\n"
     ]
    }
   ],
   "source": [
    "print(\"SGD Classifier:\")\n",
    "for i in range(len(accuracy_scores)):\n",
    "    print(f\"- Fold {i+1} accuracy: {round(accuracy_scores[i]*100, 2)}%\")"
   ]
  },
  {
   "cell_type": "markdown",
   "metadata": {},
   "source": [
    "## The Potential Problem with the Accuracy Metric\n",
    "- >95% accuracy makes it seem like the model is performing really well.\n",
    "- However, this just gives the percentage of classifications that are correct. \n",
    "- But, as shown below, the DummyClassifier ALWAYS predicts negative. Since only a small percentage of the 60,000 instances are 7s (10.44%), predicting False (value not a 7) will be correct the vast majority of the time."
   ]
  },
  {
   "cell_type": "code",
   "execution_count": 14,
   "metadata": {},
   "outputs": [
    {
     "name": "stdout",
     "output_type": "stream",
     "text": [
      "False\n"
     ]
    }
   ],
   "source": [
    "from sklearn.dummy import DummyClassifier\n",
    "\n",
    "dummy_clf = DummyClassifier()\n",
    "dummy_clf.fit(X_train, y_train_7)\n",
    "print(any(dummy_clf.predict(X_train))) # Check if any items in the list are true\n",
    "\n",
    "# Evaluate the dummy classifier (which always predicts false) 's accuracy\n",
    "dummy_accuracy_scores = cross_val_score(dummy_clf, X_train, y_train_7, cv=3, scoring='accuracy')\n"
   ]
  },
  {
   "cell_type": "code",
   "execution_count": 15,
   "metadata": {},
   "outputs": [
    {
     "name": "stdout",
     "output_type": "stream",
     "text": [
      "Dummy Classifier:\n",
      "- Fold 1 accuracy: 89.56%\n",
      "- Fold 2 accuracy: 89.56%\n",
      "- Fold 3 accuracy: 89.56%\n"
     ]
    }
   ],
   "source": [
    "print(\"Dummy Classifier:\")\n",
    "for i in range(len(dummy_accuracy_scores)):\n",
    "    print(f\"- Fold {i+1} accuracy: {round(dummy_accuracy_scores[i]*100, 2)}%\")"
   ]
  },
  {
   "cell_type": "markdown",
   "metadata": {},
   "source": [
    "# Confusion Matrices\n",
    "- In a binary classification context, a confusion matrix will show the number of:\n",
    "    - True Positives (TP)\n",
    "    - False Positives (FP)\n",
    "    - True Negatives (TN)\n",
    "    - False Negatives (FN)"
   ]
  },
  {
   "cell_type": "code",
   "execution_count": 16,
   "metadata": {},
   "outputs": [],
   "source": [
    "from sklearn.model_selection import cross_val_predict\n",
    "\n",
    "# cross_val_predict returns the PREDICTIONS made on each fold (instead of the score)\n",
    "y_train_7_predictions = cross_val_predict(sgd_clf, X_train, y_train_7, cv=3)"
   ]
  },
  {
   "cell_type": "code",
   "execution_count": 17,
   "metadata": {},
   "outputs": [
    {
     "data": {
      "image/png": "[encoded data removed]",
      "text/plain": [
       "<Figure size 640x480 with 2 Axes>"
      ]
     },
     "metadata": {},
     "output_type": "display_data"
    }
   ],
   "source": [
    "from sklearn.metrics import confusion_matrix\n",
    "from sklearn.metrics import ConfusionMatrixDisplay\n",
    "\n",
    "ConfusionMatrixDisplay.from_predictions(y_train_7, y_train_7_predictions)\n",
    "plt.show()"
   ]
  },
  {
   "cell_type": "markdown",
   "metadata": {},
   "source": [
    "In the matrix above, we can see that the model identified:\n",
    "- 52,581 digits that are not 7s as 7s\n",
    "- 1154 digits that are actually not 7s as 7s\n",
    "- 688 digits that are 7s as not 7s\n",
    "- 5577 digits that are 7s as 7s"
   ]
  },
  {
   "cell_type": "markdown",
   "metadata": {},
   "source": [
    "## Precision and Recall\n",
    "- Because accuracy is not always the best measure, we use precision and recall.\n",
    "- **Precision**:\n",
    "    - *In English*: The accuracy of the positive predictions.\n",
    "    - If the model predicts that the instance is positive, what is the likelihood that this prediction is correct.\n",
    "    - Calculated by: $ \\frac{TP}{TP + FP} $\n",
    "- **Recall**:\n",
    "    - *In English*: The ratio of actually positive instances that are identified as such.\n",
    "    - If an item is of the positive class, how likely is it that the model detected it as such.\n",
    "    - Calculated by: $ \\frac{TP}{TP + FN} $\n",
    "\n",
    "- The choice of whether to prefer a high **precision** or a high **recall** depends on the speicifc project. Examples:\n",
    "    - Spam filter to detect spam emails:\n",
    "        - It would be preferable to let a few spam messages end up in the inbox than to have a very important email misclassified as spam. Therefore, a high **precision** would be preferred. We need to make sure that we cna be really confident IF the classifier classes this as spam, then it is actually spam.\n",
    "    - Medical diagnostic tool to identify cases of a rare but serious disease:\n",
    "        - It would be preferable to misdiagnose someone as *having* the disease, than to have someone who actually ahs the disease being diagnosed as not having it. Someone who is incorrectly classed as having the disease will likely catch this in subsequent tests. So a high **recall** is preferred.\n",
    "    - A search engine which you only want to display results relevant to the user's query:\n",
    "        - It is more important that if a result is returned, it is actually relevant to the user's query than it is to ensure we capture EVERY possible relevant result. High **precision** is preferred here. \n",
    "    "
   ]
  },
  {
   "cell_type": "code",
   "execution_count": 18,
   "metadata": {},
   "outputs": [
    {
     "name": "stdout",
     "output_type": "stream",
     "text": [
      "Precision Score of `7 or not 7` model: 82.86%\n",
      "Recall Score of `7 or not 7` model: 89.02%\n"
     ]
    }
   ],
   "source": [
    "from sklearn.metrics import precision_score, recall_score\n",
    "\n",
    "print(f\"Precision Score of `7 or not 7` model: \\\n",
    "{round(precision_score(y_train_7, y_train_7_predictions) * 100, 2)}%\")\n",
    "\n",
    "print(f\"Recall Score of `7 or not 7` model: \\\n",
    "{round(recall_score(y_train_7, y_train_7_predictions) * 100, 2)}%\")"
   ]
  },
  {
   "cell_type": "markdown",
   "metadata": {},
   "source": [
    "To translate these results:\n",
    "- When our classifier claims a digit is a 7%, we can be 82.86% sure it is correct.\n",
    "- Our classifier correctly detects 89.02% of all 7s."
   ]
  },
  {
   "cell_type": "markdown",
   "metadata": {},
   "source": [
    "## $F_1$ Score\n",
    "- This is the harmonic mean of the precision and recall. \n",
    "- Whereas the regular mean treats all values equally, the harmonix mean gives much more weight to low values.\n",
    "- The classifier will only get a high $F_1$ score if both precision and recall are high. The challenge with this, though, is that increasing precision reduces recall and vice-versa. There is a tradeoff. "
   ]
  },
  {
   "cell_type": "code",
   "execution_count": 19,
   "metadata": {},
   "outputs": [
    {
     "name": "stdout",
     "output_type": "stream",
     "text": [
      "F1 score of `7 or not 7 model: 85.83%\n"
     ]
    }
   ],
   "source": [
    "from sklearn.metrics import f1_score\n",
    "\n",
    "print(f\"F1 score of `7 or not 7 model: \\\n",
    "{round(f1_score(y_train_7, y_train_7_predictions) * 100, 2)}%\")"
   ]
  },
  {
   "cell_type": "markdown",
   "metadata": {},
   "source": [
    "## How the Stochastic Gradient Descent (SGD) classifier works\n",
    "1. It computes a score based on a decision function.\n",
    "2. If that score is greater than a threshold, it assigns the instance to the positive class.\n",
    "3. Otherwise, it assigns the negative class."
   ]
  },
  {
   "cell_type": "code",
   "execution_count": 20,
   "metadata": {},
   "outputs": [
    {
     "name": "stdout",
     "output_type": "stream",
     "text": [
      "The score for our random digit is: 8840.523290066321\n"
     ]
    }
   ],
   "source": [
    "random_digit_decision_score = sgd_clf.decision_function([random_digit])\n",
    "print(f\"The score for our random digit is: {random_digit_decision_score[0]}\")"
   ]
  },
  {
   "cell_type": "markdown",
   "metadata": {},
   "source": [
    "- This means that once our score is greater than the threshold of 8840, the digit will be classified as a 7. \n",
    "- We can see that increasing the threshold would increase **precision**. i.e. only numbers that the model is EXTREMELY certain is a 7, will get classified as a 7. \n",
    "- Conversely, this will decrease recall, as it is likely some of the less certain digits will be classified as not a 7. "
   ]
  },
  {
   "cell_type": "code",
   "execution_count": 21,
   "metadata": {},
   "outputs": [
    {
     "name": "stdout",
     "output_type": "stream",
     "text": [
      "[ True]\n"
     ]
    }
   ],
   "source": [
    "threshold = 8000\n",
    "# True if the score for the random digit is greater than the threshold\n",
    "random_digit_prediction = (random_digit_decision_score > threshold)\n",
    "print(random_digit_prediction)\n"
   ]
  },
  {
   "cell_type": "code",
   "execution_count": 23,
   "metadata": {},
   "outputs": [
    {
     "name": "stdout",
     "output_type": "stream",
     "text": [
      "[-26444.17375986 -29232.36194438 -24011.8285088  ... -24767.21328011\n",
      " -18076.58386084 -12330.55080778]\n"
     ]
    }
   ],
   "source": [
    "# Using cross validation to return the decision scores of the sgd classifier\n",
    "y_decision_scores = cross_val_predict(sgd_clf, X_train, y_train_7, \n",
    "    cv=3, method='decision_function')\n",
    "\n",
    "# y_decision_scores contains the decision score for each instance in X_train\n",
    "# Those instances with a decision score over the specified threshold will be\n",
    "# classified as 7s.\n",
    "\n",
    "print(y_decision_scores)"
   ]
  },
  {
   "cell_type": "code",
   "execution_count": 27,
   "metadata": {},
   "outputs": [
    {
     "data": {
      "image/png": "[encoded data removed]",
      "text/plain": [
       "<Figure size 640x480 with 1 Axes>"
      ]
     },
     "metadata": {},
     "output_type": "display_data"
    }
   ],
   "source": [
    "# We now want to plot a precision_recall_curve to plot the precision and \n",
    "# recall values for a number of different possible thresholds\n",
    "from sklearn.metrics import precision_recall_curve\n",
    "\n",
    "precisions, recalls, thresholds = precision_recall_curve(y_train_7, \n",
    "    y_decision_scores)\n",
    "\n",
    "threshold = 1000\n",
    "\n",
    "# Defining the plot\n",
    "# Precision line is blue dashed\n",
    "# Recall line is green\n",
    "plt.plot(thresholds, precisions[:-1], \"b--\", label=\"Precision\", linewidth=2)\n",
    "plt.plot(thresholds, recalls[:-1], \"g-\", label=\"Recall\", linewidth=2)\n",
    "plt.vlines(threshold, 0, 1.0, \"k\", \"dotted\", label=\"threshold\")\n",
    "plt.show()"
   ]
  },
  {
   "cell_type": "markdown",
   "metadata": {},
   "source": [
    "Notes about the graph above:\n",
    "\n",
    "- "
   ]
  },
  {
   "cell_type": "code",
   "execution_count": 40,
   "metadata": {},
   "outputs": [
    {
     "name": "stdout",
     "output_type": "stream",
     "text": [
      "Total Precisions: 60001\n",
      "Total Recalls: 60001\n",
      "Total Thresholds: 60000\n",
      "**************************************************\n",
      "Threshold: -163657.52830886425\n",
      "Precision: 0.10441666666666667\n",
      "Recall: 1.0\n",
      "********************\n",
      "Threshold: -81015.96720255743\n",
      "Precision: 0.1061864406779661\n",
      "Recall: 1.0\n",
      "********************\n",
      "Threshold: -70793.14331035537\n",
      "Precision: 0.10801724137931035\n",
      "Recall: 1.0\n",
      "********************\n",
      "Threshold: -65066.19280015801\n",
      "Precision: 0.10991228070175439\n",
      "Recall: 1.0\n",
      "********************\n",
      "Threshold: -60566.56078959174\n",
      "Precision: 0.111875\n",
      "Recall: 1.0\n",
      "********************\n",
      "Threshold: -56938.20894717915\n",
      "Precision: 0.11389090909090908\n",
      "Recall: 0.9998403830806065\n",
      "********************\n",
      "Threshold: -54038.64683866636\n",
      "Precision: 0.116\n",
      "Recall: 0.9998403830806065\n",
      "********************\n",
      "Threshold: -51329.59332322259\n",
      "Precision: 0.11818867924528302\n",
      "Recall: 0.9998403830806065\n",
      "********************\n",
      "Threshold: -49022.94080152818\n",
      "Precision: 0.12046153846153847\n",
      "Recall: 0.9998403830806065\n",
      "********************\n",
      "Threshold: -46868.673944120485\n",
      "Precision: 0.1228235294117647\n",
      "Recall: 0.9998403830806065\n",
      "********************\n",
      "Threshold: -45046.05868797013\n",
      "Precision: 0.12528\n",
      "Recall: 0.9998403830806065\n",
      "********************\n",
      "Threshold: -43281.8240526326\n",
      "Precision: 0.12783673469387755\n",
      "Recall: 0.9998403830806065\n",
      "********************\n",
      "Threshold: -41700.35222547071\n",
      "Precision: 0.1305\n",
      "Recall: 0.9998403830806065\n",
      "********************\n",
      "Threshold: -40139.53473241655\n",
      "Precision: 0.13327659574468084\n",
      "Recall: 0.9998403830806065\n",
      "********************\n",
      "Threshold: -38642.83202479405\n",
      "Precision: 0.13617391304347826\n",
      "Recall: 0.9998403830806065\n",
      "********************\n",
      "Threshold: -37298.07722945195\n",
      "Precision: 0.1392\n",
      "Recall: 0.9998403830806065\n",
      "********************\n",
      "Threshold: -35926.94262206536\n",
      "Precision: 0.14236363636363636\n",
      "Recall: 0.9998403830806065\n",
      "********************\n",
      "Threshold: -34736.64040060217\n",
      "Precision: 0.14565116279069767\n",
      "Recall: 0.999680766161213\n",
      "********************\n",
      "Threshold: -33516.11444520629\n",
      "Precision: 0.1490952380952381\n",
      "Recall: 0.9995211492418197\n",
      "********************\n",
      "Threshold: -32319.85848935094\n",
      "Precision: 0.15270731707317073\n",
      "Recall: 0.9993615323224262\n",
      "********************\n",
      "Threshold: -31112.228739241982\n",
      "Precision: 0.156525\n",
      "Recall: 0.9993615323224262\n",
      "********************\n",
      "Threshold: -30044.292716093634\n",
      "Precision: 0.16053846153846155\n",
      "Recall: 0.9993615323224262\n",
      "********************\n",
      "Threshold: -28955.448211703253\n",
      "Precision: 0.16476315789473683\n",
      "Recall: 0.9993615323224262\n",
      "********************\n",
      "Threshold: -27905.639533023637\n",
      "Precision: 0.16918918918918918\n",
      "Recall: 0.9992019154030327\n",
      "********************\n",
      "Threshold: -26895.7509733025\n",
      "Precision: 0.1738888888888889\n",
      "Recall: 0.9992019154030327\n",
      "********************\n",
      "Threshold: -25864.46252618694\n",
      "Precision: 0.17885714285714285\n",
      "Recall: 0.9992019154030327\n",
      "********************\n",
      "Threshold: -24940.453100378993\n",
      "Precision: 0.18411764705882352\n",
      "Recall: 0.9992019154030327\n",
      "********************\n",
      "Threshold: -24040.55101731208\n",
      "Precision: 0.1896969696969697\n",
      "Recall: 0.9992019154030327\n",
      "********************\n",
      "Threshold: -23150.117325685696\n",
      "Precision: 0.1955625\n",
      "Recall: 0.9988826815642458\n",
      "********************\n",
      "Threshold: -22252.289555697105\n",
      "Precision: 0.20180645161290323\n",
      "Recall: 0.9985634477254589\n",
      "********************\n",
      "Threshold: -21393.643325319394\n",
      "Precision: 0.20846666666666666\n",
      "Recall: 0.998244213886672\n",
      "********************\n",
      "Threshold: -20512.673888508914\n",
      "Precision: 0.21558620689655172\n",
      "Recall: 0.9979249800478851\n",
      "********************\n",
      "Threshold: -19643.971627953386\n",
      "Precision: 0.22314285714285714\n",
      "Recall: 0.9972865123703113\n",
      "********************\n",
      "Threshold: -18840.139002525662\n",
      "Precision: 0.23133333333333334\n",
      "Recall: 0.9969672785315243\n",
      "********************\n",
      "Threshold: -17995.210598795347\n",
      "Precision: 0.24023076923076922\n",
      "Recall: 0.9969672785315243\n",
      "********************\n",
      "Threshold: -17217.128792286832\n",
      "Precision: 0.24964\n",
      "Recall: 0.996169193934557\n",
      "********************\n",
      "Threshold: -16397.836898328984\n",
      "Precision: 0.25983333333333336\n",
      "Recall: 0.9953711093375898\n",
      "********************\n",
      "Threshold: -15623.685615164324\n",
      "Precision: 0.2707391304347826\n",
      "Recall: 0.9939345570630487\n",
      "********************\n",
      "Threshold: -14852.654403881701\n",
      "Precision: 0.2828181818181818\n",
      "Recall: 0.9931364724660814\n",
      "********************\n",
      "Threshold: -14042.458871979461\n",
      "Precision: 0.2960952380952381\n",
      "Recall: 0.9924980047885076\n",
      "********************\n",
      "Threshold: -13245.521297627949\n",
      "Precision: 0.31045\n",
      "Recall: 0.9910614525139665\n",
      "********************\n",
      "Threshold: -12514.155780654046\n",
      "Precision: 0.3263157894736842\n",
      "Recall: 0.9896249002394254\n",
      "********************\n",
      "Threshold: -11709.812022729595\n",
      "Precision: 0.34394444444444444\n",
      "Recall: 0.9881883479648843\n",
      "********************\n",
      "Threshold: -10972.033383109409\n",
      "Precision: 0.3635294117647059\n",
      "Recall: 0.9864325618515563\n",
      "********************\n",
      "Threshold: -10150.624244376513\n",
      "Precision: 0.38525\n",
      "Recall: 0.9838786911412609\n",
      "********************\n",
      "Threshold: -9303.184749147944\n",
      "Precision: 0.4096666666666667\n",
      "Recall: 0.9808459696727854\n",
      "********************\n",
      "Threshold: -8469.09297201839\n",
      "Precision: 0.43742857142857144\n",
      "Recall: 0.9774940143655227\n",
      "********************\n",
      "Threshold: -7579.8412402443455\n",
      "Precision: 0.46915384615384614\n",
      "Recall: 0.9735035913806863\n",
      "********************\n",
      "Threshold: -6611.710504041534\n",
      "Precision: 0.5055833333333334\n",
      "Recall: 0.9683958499600958\n",
      "********************\n",
      "Threshold: -5659.604027862026\n",
      "Precision: 0.5487272727272727\n",
      "Recall: 0.9634477254588987\n",
      "********************\n",
      "Threshold: -4638.965932869422\n",
      "Precision: 0.5986\n",
      "Recall: 0.9554668794892258\n",
      "********************\n",
      "Threshold: -3461.563077238467\n",
      "Precision: 0.6576666666666666\n",
      "Recall: 0.9447725458898644\n",
      "********************\n",
      "Threshold: -2220.9742027711104\n",
      "Precision: 0.7275\n",
      "Recall: 0.9289704708699122\n",
      "********************\n",
      "Threshold: -501.3017170794529\n",
      "Precision: 0.8072857142857143\n",
      "Recall: 0.9019952114924182\n",
      "********************\n",
      "Threshold: 1705.0689981830194\n",
      "Precision: 0.8838333333333334\n",
      "Recall: 0.8464485235434956\n",
      "********************\n",
      "Threshold: 4599.3016015613775\n",
      "Precision: 0.941\n",
      "Recall: 0.7509976057462091\n",
      "********************\n",
      "Threshold: 7448.937963556719\n",
      "Precision: 0.96575\n",
      "Recall: 0.6166001596169194\n",
      "********************\n",
      "Threshold: 10047.609678878573\n",
      "Precision: 0.979\n",
      "Recall: 0.4687948922585794\n",
      "********************\n",
      "Threshold: 12719.954965643143\n",
      "Precision: 0.987\n",
      "Recall: 0.31508379888268156\n",
      "********************\n",
      "Threshold: 16421.93035291276\n",
      "Precision: 0.993\n",
      "Recall: 0.15849960095770152\n",
      "********************\n"
     ]
    }
   ],
   "source": [
    "print(f\"Total Precisions: {len(precisions)}\")\n",
    "print(f\"Total Recalls: {len(recalls)}\")\n",
    "print(f\"Total Thresholds: {len(thresholds)}\")\n",
    "print('*'*50)\n",
    "for i in range(0, len(thresholds), 1000):\n",
    "    print(f\"Threshold: {thresholds[i]}\")\n",
    "    print(f\"Precision: {precisions[i]}\")\n",
    "    print(f\"Recall: {recalls[i]}\")\n",
    "    print('*'*20)"
   ]
  },
  {
   "cell_type": "code",
   "execution_count": 38,
   "metadata": {},
   "outputs": [
    {
     "data": {
      "text/plain": [
       "-162768.14838551375"
      ]
     },
     "execution_count": 38,
     "metadata": {},
     "output_type": "execute_result"
    }
   ],
   "source": []
  },
  {
   "cell_type": "code",
   "execution_count": null,
   "metadata": {},
   "outputs": [],
   "source": []
  }
 ],
 "metadata": {
  "kernelspec": {
   "display_name": "venv",
   "language": "python",
   "name": "python3"
  },
  "language_info": {
   "codemirror_mode": {
    "name": "ipython",
    "version": 3
   },
   "file_extension": ".py",
   "mimetype": "text/x-python",
   "name": "python",
   "nbconvert_exporter": "python",
   "pygments_lexer": "ipython3",
   "version": "3.10.2"
  }
 },
 "nbformat": 4,
 "nbformat_minor": 2
}
