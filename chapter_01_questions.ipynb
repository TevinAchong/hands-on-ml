{
 "cells": [
  {
   "cell_type": "markdown",
   "id": "1e39ec31-44e6-4aea-a054-6acf5ab8711e",
   "metadata": {},
   "source": [
    "**1. How would you define machine learning?**\n",
    "- Machine learning is the practice of creating programs on a computer that figure out the ideal solution to a problem without being explicitly programmed.\n",
    "- A computer is said to have learned from some experience E, with respect to some task T, as evaluated by a metric, M, if its performance on T is improved as measured by M after going through experience E."
   ]
  },
  {
   "cell_type": "markdown",
   "id": "26579153-9640-44e9-9a96-64c272d7e814",
   "metadata": {},
   "source": [
    "**2. Can you name four types of applications where it shines?**\n",
    "- Tasks that are too mathematically complex for any human to solve in a reasonable amount of time.\n",
    "- If the solutions require a lot of hand-tuning.\n",
    "- Environments where the input data can change.\n",
    "- Building understand on complex problems that can have very large amounts of data."
   ]
  },
  {
   "cell_type": "markdown",
   "id": "69b09d31-0018-4064-9b6b-cb9cb5d9ba26",
   "metadata": {},
   "source": [
    "**3. What is a labeled training set?**\n",
    "- A training set is data that is provided to a machine learning model so that it can improve its performance on a given task. A labeled training set refers to a training set where you provide the model with the correct output values or \"answers\" for each data point in that set. The model knows what the answer should be, and it will use this information to try to generalize to new data points for which it does not know the correct value."
   ]
  },
  {
   "cell_type": "markdown",
   "id": "b9d70dc8-0bf5-4817-863f-6609c81b75e0",
   "metadata": {},
   "source": [
    "**4. What are the two most common supervised tasks?**\n",
    "- Regression\n",
    "- Classification"
   ]
  },
  {
   "cell_type": "markdown",
   "id": "62acf3f9-ad76-4cb8-9717-ff2080a7aaae",
   "metadata": {},
   "source": [
    "**5. Can you name four common unsupervised tasks?**\n",
    "- Clustering\n",
    "- Anomaly detection\n",
    "- Dimensionality reduction\n",
    "- Association rule learning"
   ]
  },
  {
   "cell_type": "markdown",
   "id": "18ce8608-ba05-437f-be58-3e2f36aaf91e",
   "metadata": {},
   "source": [
    "**6. What type of algorithm would you use to allow a robot to walk in various unknown terrains?**\n",
    "- Reinforcement learning algorithm. This works on a reward/punishment basis. The robot is rewarded for every action it takes that gets it closer to the goal, and it receives a penalty for any negative action taken."
   ]
  },
  {
   "cell_type": "markdown",
   "id": "9d352d5a-92f6-4d8a-a624-663d0f5dc9dd",
   "metadata": {},
   "source": [
    "**7. What type of algorithm would you use to segment your customers into multiple groups?**\n",
    "- A clustering algorithm. This would be an unsupervised classification algorithm."
   ]
  },
  {
   "cell_type": "markdown",
   "id": "f3f23b38-cf39-45f2-bd1a-4b1306609c2b",
   "metadata": {},
   "source": [
    "**8. Would you frame the problem of spam detection as a supervised learning problem or an unsupervised learning problem?**\n",
    "- It depends. If the model is being fed a bunch of emails, and we tell the emails which are spam and which are not, and we use that data to train the model, then it will be a supervised model. If, on the other hand, the model is being trained purely on emails, with no further context, it will be unsupervised. In this instance, it is likely that the model will just identify groups, and it will be on the human to determine whether a particular group is spam or not."
   ]
  },
  {
   "cell_type": "markdown",
   "id": "854a5f8f-fe51-49e7-a84e-e22dda2b72c0",
   "metadata": {},
   "source": [
    "**9. What is an online learning system?**\n",
    "- A machine learning system that can take new information to be trained on while it is live. It has the ability to learn from more than just the initial data it was trained on."
   ]
  },
  {
   "cell_type": "markdown",
   "id": "dd3bbb48-49e3-42bc-9e9f-2ae366145513",
   "metadata": {},
   "source": [
    "**10. What is out-of-core learning?**\n",
    "- This is when a dataset is too large to fit into a single machine's memory. Typically some type of distributed or parallel computing is necessary to perform training."
   ]
  },
  {
   "cell_type": "markdown",
   "id": "780b5a89-5948-4bbe-9a85-a904a9acfb2b",
   "metadata": {},
   "source": [
    "**11. What type of algorithm relies on a similarity measure to make predictions?**\n",
    "- This is referred to as an instance-based algorithm (as opposed to a model-based algorithm)."
   ]
  },
  {
   "cell_type": "markdown",
   "id": "db18e725-5be5-46c1-838f-9835ec61243f",
   "metadata": {},
   "source": [
    "**12. What is the difference between a model parameter and a model hyperparameter?**\n",
    "- A hyperparameter is defined before the model is trained, and defines specifics about how the training should be run/conducted. e.g. a hyperparameter might be the number of iterations we want the model to be trained for.\n",
    "- A parameter is the value that the model tries to optimize during training. We might start training the model with some random parameters, and the objective of the model is to find the parameters that achieve the best result with respect to some cost / loss function."
   ]
  },
  {
   "cell_type": "markdown",
   "id": "7a5fdfe5-481c-44a1-9011-89a1ae90f46a",
   "metadata": {},
   "source": [
    "**13. What do model-based algorithms search for? What is the most common strategy they use to succeed? How do they make predictions?**\n",
    "- They search the set of parameters that minimize or maximize some function. They do this through the use of various optimization algorithms, which search for the global minimum or maximum of some optimization function. Once they find this minimum, the prediction is made by using the identified parameters in the function the model calculates. "
   ]
  },
  {
   "cell_type": "markdown",
   "id": "8d4aa947-5997-44f2-a72f-25a8f76d0eb7",
   "metadata": {},
   "source": [
    "**14. Can you name four of the main challenges in machine learning?**\n",
    "- Not enough data\n",
    "- Poor quality data (non-representative)\n",
    "- Not using a complex enough model for the problem at hand (underfitting)\n",
    "- Using a model that is too complex for the problem at hand (overfitting)"
   ]
  },
  {
   "cell_type": "markdown",
   "id": "509cecd3-7219-4674-8941-fcf15943d833",
   "metadata": {},
   "source": [
    "**15. If your model performs great on the training data but generalizes poorly to new instances, what is happening? Can you name three possible solutions?**\n",
    "- The model is overfitting the training data. Possible solutions:\n",
    "- Use a simpler algorithm.\n",
    "- Get more training data.\n",
    "- Eliminate outliers and unecessary features from the training data"
   ]
  },
  {
   "cell_type": "markdown",
   "id": "e51b5746-4563-410a-afef-25755f313fd9",
   "metadata": {},
   "source": [
    "**16. What is a test set and why would you want to use it?**\n",
    "- You use a test set after you have trained your model on your training data. It is used to represent new data that your model has not seen before."
   ]
  },
  {
   "cell_type": "markdown",
   "id": "7e5efea4-4425-4cf9-850a-5926369726ed",
   "metadata": {},
   "source": [
    "**17. What is the purpose of a validation set?**\n",
    "- This is used during the training of a model. The model is initially trained on the training set, the validation set is then used a preliminary set of unseen instances to evaluate if the model is generalizing well before we do the final evaluation on the test set."
   ]
  },
  {
   "cell_type": "markdown",
   "id": "cf7282a4-88ea-4380-82eb-a55502714e74",
   "metadata": {},
   "source": [
    "**18. What is the train-dev set, when do you need it, and how do you use it?**\n",
    "- The goal of dev-set is to rank the models in term of their accuracy and helps us decide which model to proceed further with."
   ]
  },
  {
   "cell_type": "markdown",
   "id": "c4db8823-6008-402e-bb1e-bd62b97aeb30",
   "metadata": {},
   "source": [
    "**19. What can go wrong if you tune hyperparameters using the test set?**\n",
    "- The test set is meant to be the final check of how your trained model performs on new instances. If you tune on the test set, you are esentially treating it as part of the training data. Causing the model to have effectively \"seen\" your test set data. It would then be impossible to accurately evaluate the model without going into production."
   ]
  },
  {
   "cell_type": "code",
   "execution_count": null,
   "id": "c416c7fa-5c47-4643-9c41-7bde13d1f96e",
   "metadata": {},
   "outputs": [],
   "source": []
  }
 ],
 "metadata": {
  "kernelspec": {
   "display_name": "Python 3 (ipykernel)",
   "language": "python",
   "name": "python3"
  },
  "language_info": {
   "codemirror_mode": {
    "name": "ipython",
    "version": 3
   },
   "file_extension": ".py",
   "mimetype": "text/x-python",
   "name": "python",
   "nbconvert_exporter": "python",
   "pygments_lexer": "ipython3",
   "version": "3.10.2"
  }
 },
 "nbformat": 4,
 "nbformat_minor": 5
}
