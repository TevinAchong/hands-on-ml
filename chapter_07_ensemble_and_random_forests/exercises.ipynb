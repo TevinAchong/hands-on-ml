{
 "cells": [
  {
   "cell_type": "markdown",
   "metadata": {},
   "source": [
    "#### 1. If you have trained five different models on the exact same training data, and they all achieve 95% precision, is there any chance that you can combine these models to get better results? If so, how? If not, why?"
   ]
  },
  {
   "cell_type": "markdown",
   "metadata": {},
   "source": [
    "**My Answer:**\n",
    "- Yes you can definitely combine these models to get better results. This is because ensemble methods work best when the predictors are diverse (i.e. using different algorithms); this means they will make very different types of errors. E.g. we can take the predictions of a SVC, a RandomForest, and a LogisticRegressor, aggregate these predictions (take the most common prediction, or the most likely) and use this as the final prediction.\n",
    "\n",
    "**Aurelien's Answer:**\n",
    "- If you have trained five different models and they all achieve 95% precision, you can try combining them into a voting ensemble, which will often give you even better results. It works better if the models are very different (e.g., an SVM classifier, a Decision Tree classifier, a Logistic Regression classifier and so on). It is even better if they are trained on different training instances (that's the whole point of bagging and pasting ensembles), but if not this will still be effective as long as the models are very different.\n"
   ]
  },
  {
   "cell_type": "markdown",
   "metadata": {},
   "source": [
    "#### 2. What is the difference between hard voting and soft voting classifiers?"
   ]
  },
  {
   "cell_type": "markdown",
   "metadata": {},
   "source": [
    "**My Answer:**\n",
    "- *Hard Voting*:\n",
    "    - Suppose we have 3 models trained on a training set. When we take the predictions of those 3 models on an instance, we take the most common prediction as the final prediction. E.g.: \n",
    "        - `model 1 prediction: class 1`\n",
    "        - `model 2 prediction: class 1`\n",
    "        - `model 3 prediction: class 2`\n",
    "        - $\\therefore$ `final prediction: class 1`\n",
    "- *Soft Voting*:\n",
    "    - Suppose we have 3 models trained on a training set. For a given instance, each model predicts the probability that the instance is in each class. Then the final prediction is whichever class has the highest overall average probability. E.g.:\n",
    "        - `model 1 probability prediction: [0.45, 0.55]`\n",
    "        - `model 2 probability prediction: [0.3, 0.7]`\n",
    "        - `model 3 probability prediction: [0.6, 0.4]`\n",
    "        - Average probability for class 1: $\\frac{(0.45 + 0.3 + 0.6)}{3} = 0.45$\n",
    "        - Average probability for class 2: $\\frac{(0.55 + 0.7 + 0.4)}{3} = 0.55$\n",
    "        - $\\therefore$ `final prediction: class 2`\n",
    "\n",
    "**Aurelien's Answer:**\n",
    "- A hard voting classifier just counts the votes of each classifier in the ensemble and picks the class that gets the most votes. A soft voting classifier computes the average estimated class probability for each class and picks the class with the highest probability. This gives high-confidence votes more weight and often performs better, but it only works if every classifier is able to estimate class probabilities (e.g. for the SVM classifiers in Scikit-Learn, you must set `probability=True`)"
   ]
  },
  {
   "cell_type": "markdown",
   "metadata": {},
   "source": [
    "#### 3. Is it possible to speed up training of a bagging ensemble by distributing it across multiple servers? What about pasting ensembles, boosting ensembles, random forests, or stacking ensembles?"
   ]
  },
  {
   "cell_type": "markdown",
   "metadata": {},
   "source": [
    "**My Answer:**\n",
    "\n",
    "\n",
    "**Aurelien's Answer:**"
   ]
  },
  {
   "cell_type": "markdown",
   "metadata": {},
   "source": [
    "#### 4. What is benefit of out-of-bag evaluation?"
   ]
  },
  {
   "cell_type": "markdown",
   "metadata": {},
   "source": [
    "**My Answer:**\n",
    "\n",
    "\n",
    "**Aurelien's Answer:**"
   ]
  },
  {
   "cell_type": "markdown",
   "metadata": {},
   "source": [
    "#### 5. What makes extra-trees ensembles more random than regular random forests? How can this extra randomness help? Are extra-trees classifiers slower or faster than regular random forests?"
   ]
  },
  {
   "cell_type": "markdown",
   "metadata": {},
   "source": [
    "**My Answer:**\n",
    "\n",
    "\n",
    "**Aurelien's Answer:**"
   ]
  },
  {
   "cell_type": "markdown",
   "metadata": {},
   "source": [
    "#### 6. If your AdaBoost ensemble underfits the training data, which hyperparameters should you tweak and how?"
   ]
  },
  {
   "cell_type": "markdown",
   "metadata": {},
   "source": [
    "**My Answer:**\n",
    "\n",
    "\n",
    "**Aurelien's Answer:**"
   ]
  },
  {
   "cell_type": "markdown",
   "metadata": {},
   "source": [
    "#### 7. If your gradient boosting ensemble overfits the training set, should you increase or decrease the learning rate?"
   ]
  },
  {
   "cell_type": "markdown",
   "metadata": {},
   "source": [
    "**My Answer:**\n",
    "\n",
    "\n",
    "**Aurelien's Answer:**"
   ]
  },
  {
   "cell_type": "markdown",
   "metadata": {},
   "source": []
  }
 ],
 "metadata": {
  "language_info": {
   "name": "python"
  }
 },
 "nbformat": 4,
 "nbformat_minor": 2
}
