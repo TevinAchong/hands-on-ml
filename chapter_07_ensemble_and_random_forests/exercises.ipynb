{
 "cells": [
  {
   "cell_type": "markdown",
   "metadata": {},
   "source": [
    "#### 1. If you have trained five different models on the exact same training data, and they all achieve 95% precision, is there any chance that you can combine these models to get better results? If so, how? If not, why?"
   ]
  },
  {
   "cell_type": "markdown",
   "metadata": {},
   "source": [
    "**My Answer:**\n",
    "- Yes you can definitely combine these models to get better results. This is because ensemble methods work best when the predictors are diverse (i.e. using different algorithms); this means they will make very different types of errors. E.g. we can take the predictions of a SVC, a RandomForest, and a LogisticRegressor, aggregate these predictions (take the most common prediction, or the most likely) and use this as the final prediction.\n",
    "\n",
    "**Aurelien's Answer:**\n",
    "- If you have trained five different models and they all achieve 95% precision, you can try combining them into a voting ensemble, which will often give you even better results. It works better if the models are very different (e.g., an SVM classifier, a Decision Tree classifier, a Logistic Regression classifier and so on). It is even better if they are trained on different training instances (that's the whole point of bagging and pasting ensembles), but if not this will still be effective as long as the models are very different.\n"
   ]
  },
  {
   "cell_type": "markdown",
   "metadata": {},
   "source": [
    "#### 2. What is the difference between hard voting and soft voting classifiers?"
   ]
  },
  {
   "cell_type": "markdown",
   "metadata": {},
   "source": [
    "**My Answer:**\n",
    "- *Hard Voting*:\n",
    "    - Suppose we have 3 models trained on a training set. When we take the predictions of those 3 models on an instance, we take the most common prediction as the final prediction. E.g.: \n",
    "        - `model 1 prediction: class 1`\n",
    "        - `model 2 prediction: class 1`\n",
    "        - `model 3 prediction: class 2`\n",
    "        - $\\therefore$ `final prediction: class 1`\n",
    "- *Soft Voting*:\n",
    "    - Suppose we have 3 models trained on a training set. For a given instance, each model predicts the probability that the instance is in each class. Then the final prediction is whichever class has the highest overall average probability. E.g.:\n",
    "        - `model 1 probability prediction: [0.45, 0.55]`\n",
    "        - `model 2 probability prediction: [0.3, 0.7]`\n",
    "        - `model 3 probability prediction: [0.6, 0.4]`\n",
    "        - Average probability for class 1: $\\frac{(0.45 + 0.3 + 0.6)}{3} = 0.45$\n",
    "        - Average probability for class 2: $\\frac{(0.55 + 0.7 + 0.4)}{3} = 0.55$\n",
    "        - $\\therefore$ `final prediction: class 2`\n",
    "\n",
    "**Aurelien's Answer:**\n",
    "- A hard voting classifier just counts the votes of each classifier in the ensemble and picks the class that gets the most votes. A soft voting classifier computes the average estimated class probability for each class and picks the class with the highest probability. This gives high-confidence votes more weight and often performs better, but it only works if every classifier is able to estimate class probabilities (e.g. for the SVM classifiers in Scikit-Learn, you must set `probability=True`)"
   ]
  },
  {
   "cell_type": "markdown",
   "metadata": {},
   "source": [
    "#### 3. Is it possible to speed up training of a bagging ensemble by distributing it across multiple servers? What about pasting ensembles, boosting ensembles, random forests, or stacking ensembles?"
   ]
  },
  {
   "cell_type": "markdown",
   "metadata": {},
   "source": [
    "**My Answer:**\n",
    "- Bagging ensembles, pasting ensembles, and random forests can be sped up by distributed computing, because these involve splitting your training set into different subsets and training different models on these subsets. But stacking and boosting ensembles cannot be sped up via distributed computing because it requires models to be trained sequentially.\n",
    "\n",
    "**Aurelien's Answer:**\n",
    "- It is quite possible to speed up training of a bagging ensemble by distributing it across multiple servers, since each predictor in the ensemble is independent of the others. The same goes for pasting ensembles and Random Forests, for the same reason. However, each predictor in a boosting ensemble is built based on the previous predictor, so training is necessarily sequential, and you will not gain anything by distributing training across multiple servers. Regarding stacking ensembles, all the predictors in a given layer are independent of each other, so they can be trained in parallel on multiple servers. However, the predictors in one layer can only be trained after the predictors in the previous layer have all been trained."
   ]
  },
  {
   "cell_type": "markdown",
   "metadata": {},
   "source": [
    "#### 4. What is the benefit of out-of-bag evaluation?"
   ]
  },
  {
   "cell_type": "markdown",
   "metadata": {},
   "source": [
    "**My Answer:**\n",
    "- Out-of-bag (OOB) evaluation refers to using instances from the training set that were not used to train the model to get an evaluation. This is possible when performing bagging (instance sampling with replacement). Say we have 100 instances, bagging will randomly use about 63 of them. The other 37 are the OOB set. This allows for more thorough testing on the generalization ability of your model.\n",
    "\n",
    "**Aurelien's Answer:**\n",
    "- With out-of-bag evaluation, each predictor in a bagging ensemble is evaluated using instances that it was not trained on (they were held out). This makes it possible to have a fairly unbiased evaluation of the ensemble without the need for an additional validation set. Thus, you have more instances available for training, and your ensemble can perform slightly better."
   ]
  },
  {
   "cell_type": "markdown",
   "metadata": {},
   "source": [
    "#### 5. What makes extra-trees ensembles more random than regular random forests? How can this extra randomness help? Are extra-trees classifiers slower or faster than regular random forests?"
   ]
  },
  {
   "cell_type": "markdown",
   "metadata": {},
   "source": [
    "**My Answer:**\n",
    "- The trees in a regular random forest are searching for the optimal (minimizes Gini impurity) threshold for each feature being used to decide how nodes of the tree are split. Extra-trees ensembles use a random threshold for features to determine how to split the nodes of a tree. This randomness makes the training process faster.\n",
    "\n",
    "**Aurelien's Answer:**\n",
    "- When you are growing a tree in a Random Forest, only a random subset of the features is considered for splitting at each node. This is true as well for Extra-Trees, but they go one step further: rather than searching for the best possible thresholds, like regular Decision Trees do, they use random thresholds for each feature. This extra randomness acts like a form of regularization: if a Random Forest overfits the training data, Extra-Trees might perform better. Moreover, since Extra-Trees don't search for the best possible thresholds, they are much faster to train than Random Forests. However, they are neither faster nor slower than Random Forests when making predictions."
   ]
  },
  {
   "cell_type": "markdown",
   "metadata": {},
   "source": [
    "#### 6. If your AdaBoost ensemble underfits the training data, which hyperparameters should you tweak and how?"
   ]
  },
  {
   "cell_type": "markdown",
   "metadata": {},
   "source": [
    "**My Answer:**\n",
    "- If it underfits, then the model is likely not powerful enough. You can increase `n_estimators` to get a more powerful model. Also, if the `learning_rate` is decreased, there will be an even greater weight placed on inaccurate predictions during training. Meaning the model will work harder to improve those at each iteration.\n",
    "\n",
    "**Aurelien's Answer:**\n",
    "- If your AdaBoost ensemble underfits the training data, you can try increasing the number of estimators or reducing the regularization hyperparameters of the base estimator. You may also try slightly increasing the learning rate."
   ]
  },
  {
   "cell_type": "markdown",
   "metadata": {},
   "source": [
    "#### 7. If your gradient boosting ensemble overfits the training set, should you increase or decrease the learning rate?"
   ]
  },
  {
   "cell_type": "markdown",
   "metadata": {},
   "source": [
    "**My Answer:**\n",
    "- The learning rate of a gradient boosting ensemble controls a regularization technique called shrinkage. You should decrease the learning rate because a lower learning rate means more trees are required. If the learning rate is lowered and the number of trees remains the same, then the model won't be powerful enough to overfit.\n",
    "\n",
    "**Aurelien's Answer:**\n",
    "- If your gradient boosting ensemble overfits the training set, you should try decreasing the learning rate. You could also use early stopping to find the right number of predictors (you probably have too many)."
   ]
  },
  {
   "cell_type": "markdown",
   "metadata": {},
   "source": []
  }
 ],
 "metadata": {
  "language_info": {
   "name": "python"
  }
 },
 "nbformat": 4,
 "nbformat_minor": 2
}
