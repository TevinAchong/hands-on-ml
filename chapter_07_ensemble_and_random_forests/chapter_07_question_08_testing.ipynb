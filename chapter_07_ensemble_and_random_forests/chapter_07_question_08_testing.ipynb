{
 "cells": [
  {
   "cell_type": "code",
   "execution_count": 1,
   "metadata": {},
   "outputs": [
    {
     "name": "stdout",
     "output_type": "stream",
     "text": [
      "Shape of the full dataset: (70000, 784)\n",
      "Shape of the full label set: (70000,)\n",
      "Shape of the training data: (50575, 784)\n",
      "Shape of the training labels: (50575,)\n",
      "Shape of the validation data: (8925, 784)\n",
      "Shape of the validation labels: (8925,)\n",
      "Shape of the test data: (10500, 784)\n",
      "Shape of the test labels: (10500,)\n"
     ]
    }
   ],
   "source": [
    "# Import the MNIST dataset\n",
    "from sklearn.datasets import fetch_openml\n",
    "mnist = fetch_openml(\"mnist_784\", as_frame=False)\n",
    "\n",
    "X, y = mnist.data, mnist.target\n",
    "print(f\"Shape of the full dataset: {X.shape}\")\n",
    "print(f\"Shape of the full label set: {y.shape}\")\n",
    "\n",
    "from sklearn.model_selection import train_test_split\n",
    "\n",
    "X_train, X_test, y_train, y_test = train_test_split(X, y, test_size=0.15, random_state=42)\n",
    "X_train, X_val, y_train, y_val = train_test_split(X_train, y_train, test_size=0.15, random_state=42)\n",
    "print(f\"Shape of the training data: {X_train.shape}\")\n",
    "print(f\"Shape of the training labels: {y_train.shape}\")\n",
    "\n",
    "print(f\"Shape of the validation data: {X_val.shape}\")\n",
    "print(f\"Shape of the validation labels: {y_val.shape}\")\n",
    "\n",
    "print(f\"Shape of the test data: {X_test.shape}\")\n",
    "print(f\"Shape of the test labels: {y_test.shape}\")"
   ]
  },
  {
   "cell_type": "code",
   "execution_count": 2,
   "metadata": {},
   "outputs": [],
   "source": [
    "# Load in the trained models\n",
    "import joblib\n",
    "\n",
    "voting_clf_with_mlp = joblib.load('exercise_models/voting_clf_with_mlp.pkl')"
   ]
  },
  {
   "cell_type": "code",
   "execution_count": 8,
   "metadata": {},
   "outputs": [
    {
     "data": {
      "text/plain": [
       "0.8677871148459384"
      ]
     },
     "execution_count": 8,
     "metadata": {},
     "output_type": "execute_result"
    }
   ],
   "source": [
    "voting_clf_with_mlp.estimators[2][-1].score(X_val, y_val)"
   ]
  },
  {
   "cell_type": "code",
   "execution_count": null,
   "metadata": {},
   "outputs": [],
   "source": []
  }
 ],
 "metadata": {
  "kernelspec": {
   "display_name": "venv",
   "language": "python",
   "name": "python3"
  },
  "language_info": {
   "codemirror_mode": {
    "name": "ipython",
    "version": 3
   },
   "file_extension": ".py",
   "mimetype": "text/x-python",
   "name": "python",
   "nbconvert_exporter": "python",
   "pygments_lexer": "ipython3",
   "version": "3.10.2"
  }
 },
 "nbformat": 4,
 "nbformat_minor": 2
}
