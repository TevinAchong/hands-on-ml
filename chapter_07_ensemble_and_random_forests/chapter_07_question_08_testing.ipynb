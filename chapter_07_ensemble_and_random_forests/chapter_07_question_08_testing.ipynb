{
 "cells": [
  {
   "cell_type": "code",
   "execution_count": 60,
   "metadata": {},
   "outputs": [
    {
     "name": "stdout",
     "output_type": "stream",
     "text": [
      "Shape of the full dataset: (70000, 784)\n",
      "Shape of the full label set: (70000,)\n",
      "Shape of the training data: (50575, 784)\n",
      "Shape of the training labels: (50575,)\n",
      "Shape of the validation data: (8925, 784)\n",
      "Shape of the validation labels: (8925,)\n",
      "Shape of the test data: (10500, 784)\n",
      "Shape of the test labels: (10500,)\n"
     ]
    }
   ],
   "source": [
    "# Import the MNIST dataset\n",
    "from sklearn.datasets import fetch_openml\n",
    "mnist = fetch_openml(\"mnist_784\", as_frame=False)\n",
    "\n",
    "X, y = mnist.data, mnist.target\n",
    "print(f\"Shape of the full dataset: {X.shape}\")\n",
    "print(f\"Shape of the full label set: {y.shape}\")\n",
    "\n",
    "from sklearn.model_selection import train_test_split\n",
    "\n",
    "X_train, X_test, y_train, y_test = train_test_split(X, y, test_size=0.15, random_state=42)\n",
    "X_train, X_val, y_train, y_val = train_test_split(X_train, y_train, test_size=0.15, random_state=42)\n",
    "print(f\"Shape of the training data: {X_train.shape}\")\n",
    "print(f\"Shape of the training labels: {y_train.shape}\")\n",
    "\n",
    "print(f\"Shape of the validation data: {X_val.shape}\")\n",
    "print(f\"Shape of the validation labels: {y_val.shape}\")\n",
    "\n",
    "print(f\"Shape of the test data: {X_test.shape}\")\n",
    "print(f\"Shape of the test labels: {y_test.shape}\")"
   ]
  },
  {
   "cell_type": "code",
   "execution_count": 61,
   "metadata": {},
   "outputs": [],
   "source": [
    "# Load in the trained models\n",
    "import joblib\n",
    "\n",
    "voting_clf_with_mlp = joblib.load('exercise_models/voting_clf_with_mlp.pkl')"
   ]
  },
  {
   "cell_type": "code",
   "execution_count": 62,
   "metadata": {},
   "outputs": [
    {
     "data": {
      "text/plain": [
       "array([2, 1, 0])"
      ]
     },
     "execution_count": 62,
     "metadata": {},
     "output_type": "execute_result"
    }
   ],
   "source": [
    "###### How to evaluate each model ######\n",
    "# Internally, each the voting classifier converts the labels to integer indices\n",
    "# e.g. ['dog', 'cat', 'bird'] become [2, 1, 0]\n",
    "# So when evaluating each model, we need to do the same conversion\n",
    "encoder.fit_transform(['dog', 'cat', 'bird'])"
   ]
  },
  {
   "cell_type": "code",
   "execution_count": 63,
   "metadata": {},
   "outputs": [
    {
     "data": {
      "text/plain": [
       "array(['3', '8', '4', ..., '7', '6', '0'], dtype=object)"
      ]
     },
     "execution_count": 63,
     "metadata": {},
     "output_type": "execute_result"
    }
   ],
   "source": [
    "y_val"
   ]
  },
  {
   "cell_type": "code",
   "execution_count": 64,
   "metadata": {},
   "outputs": [],
   "source": [
    "from sklearn.preprocessing import LabelEncoder\n",
    "import numpy as np\n",
    "\n",
    "encoder = LabelEncoder()\n",
    "y_val_encoded = encoder.fit_transform(y_val) # Converts to integer"
   ]
  },
  {
   "cell_type": "code",
   "execution_count": 65,
   "metadata": {},
   "outputs": [
    {
     "data": {
      "text/plain": [
       "array([3, 8, 4, ..., 7, 6, 0])"
      ]
     },
     "execution_count": 65,
     "metadata": {},
     "output_type": "execute_result"
    }
   ],
   "source": [
    "y_val_encoded"
   ]
  },
  {
   "cell_type": "code",
   "execution_count": 66,
   "metadata": {},
   "outputs": [
    {
     "name": "stdout",
     "output_type": "stream",
     "text": [
      "forest_clf validation score : 0.9687394957983193\n",
      "extra_clf validation score : 0.9718767507002801\n",
      "sgd_clf validation score : 0.8677871148459384\n",
      "mlp_clf validation score : 0.9611204481792717\n",
      "voting_clf_with_mlp validation score : 0.9019607843137255\n"
     ]
    },
    {
     "name": "stderr",
     "output_type": "stream",
     "text": [
      "/Users/tevinachong/Documents/Courses/hands-on-ml/venv/lib/python3.10/site-packages/sklearn/linear_model/_base.py:372: RuntimeWarning: invalid value encountered in divide\n",
      "  prob /= prob.sum(axis=1).reshape((prob.shape[0], -1))\n"
     ]
    }
   ],
   "source": [
    "# Now we can evaluate each model\n",
    "for est in voting_clf_with_mlp.named_estimators_.items():\n",
    "    print(f\"{est[0]} validation score : {est[1].score(X_val, y_val_encoded)}\")\n",
    "print(f\"voting_clf_with_mlp validation score : {voting_clf_with_mlp.score(X_val, y_val)}\")"
   ]
  },
  {
   "cell_type": "code",
   "execution_count": 67,
   "metadata": {},
   "outputs": [
    {
     "data": {
      "text/plain": [
       "{'forest_clf': RandomForestClassifier(random_state=42),\n",
       " 'extra_clf': ExtraTreesClassifier(random_state=42),\n",
       " 'sgd_clf': SGDClassifier(loss='log_loss', random_state=42),\n",
       " 'mlp_clf': MLPClassifier(random_state=42)}"
      ]
     },
     "execution_count": 67,
     "metadata": {},
     "output_type": "execute_result"
    }
   ],
   "source": [
    "voting_clf_with_mlp.named_estimators_"
   ]
  },
  {
   "cell_type": "code",
   "execution_count": 68,
   "metadata": {},
   "outputs": [
    {
     "data": {
      "text/plain": [
       "0.9710924369747899"
      ]
     },
     "execution_count": 68,
     "metadata": {},
     "output_type": "execute_result"
    }
   ],
   "source": [
    "# Evaluating the voting classifier using hard voting\n",
    "voting_clf_with_mlp.voting = \"hard\"\n",
    "voting_clf_with_mlp.score(X_val, y_val)"
   ]
  },
  {
   "cell_type": "code",
   "execution_count": 69,
   "metadata": {},
   "outputs": [
    {
     "name": "stdout",
     "output_type": "stream",
     "text": [
      "[('forest_clf', RandomForestClassifier(random_state=42)), ('extra_clf', ExtraTreesClassifier(random_state=42)), ('sgd_clf', 'drop'), ('mlp_clf', MLPClassifier(random_state=42))]\n",
      "[RandomForestClassifier(random_state=42), ExtraTreesClassifier(random_state=42), SGDClassifier(loss='log_loss', random_state=42), MLPClassifier(random_state=42)]\n",
      "{'forest_clf': RandomForestClassifier(random_state=42), 'extra_clf': ExtraTreesClassifier(random_state=42), 'sgd_clf': SGDClassifier(loss='log_loss', random_state=42), 'mlp_clf': MLPClassifier(random_state=42)}\n"
     ]
    }
   ],
   "source": [
    "# It is still not as good as the extra trees classifier.\n",
    "# Maybe if we drop the weakest link (sgd classifier) the accuracy will improve\n",
    "\n",
    "# Removing the SGD from the original estimators \n",
    "voting_clf_with_mlp.set_params(sgd_clf=\"drop\")\n",
    "print(voting_clf_with_mlp.estimators)\n",
    "print(voting_clf_with_mlp.estimators_)\n",
    "print(voting_clf_with_mlp.named_estimators_)"
   ]
  },
  {
   "cell_type": "code",
   "execution_count": 70,
   "metadata": {},
   "outputs": [
    {
     "name": "stdout",
     "output_type": "stream",
     "text": [
      "[('forest_clf', RandomForestClassifier(random_state=42)), ('extra_clf', ExtraTreesClassifier(random_state=42)), ('sgd_clf', 'drop'), ('mlp_clf', MLPClassifier(random_state=42))]\n",
      "[RandomForestClassifier(random_state=42), ExtraTreesClassifier(random_state=42), MLPClassifier(random_state=42)]\n"
     ]
    }
   ],
   "source": [
    "# So it is dropped from the original list of estimators but not the list of trained estimators\n",
    "\n",
    "# Dropping the sgd clf from the list of trained estimators\n",
    "svm_clf_trained = voting_clf_with_mlp.named_estimators_.pop('sgd_clf')\n",
    "voting_clf_with_mlp.estimators_.remove(svm_clf_trained)\n",
    "\n",
    "print(voting_clf_with_mlp.estimators)\n",
    "print(voting_clf_with_mlp.estimators_)"
   ]
  },
  {
   "cell_type": "code",
   "execution_count": 71,
   "metadata": {},
   "outputs": [
    {
     "data": {
      "text/plain": [
       "0.9732212885154061"
      ]
     },
     "execution_count": 71,
     "metadata": {},
     "output_type": "execute_result"
    }
   ],
   "source": [
    "# Now we re-evaluate the voting classifier \n",
    "voting_clf_with_mlp.score(X_val, y_val)"
   ]
  },
  {
   "cell_type": "code",
   "execution_count": null,
   "metadata": {},
   "outputs": [],
   "source": [
    "# Boom shakalaka"
   ]
  },
  {
   "cell_type": "code",
   "execution_count": 72,
   "metadata": {},
   "outputs": [
    {
     "data": {
      "text/plain": [
       "['exercise_models/voting_clf_without_sgd.pkl']"
      ]
     },
     "execution_count": 72,
     "metadata": {},
     "output_type": "execute_result"
    }
   ],
   "source": [
    "joblib.dump(voting_clf_with_mlp, \"exercise_models/voting_clf_without_sgd.pkl\")"
   ]
  },
  {
   "cell_type": "code",
   "execution_count": null,
   "metadata": {},
   "outputs": [],
   "source": []
  }
 ],
 "metadata": {
  "kernelspec": {
   "display_name": "venv",
   "language": "python",
   "name": "python3"
  },
  "language_info": {
   "codemirror_mode": {
    "name": "ipython",
    "version": 3
   },
   "file_extension": ".py",
   "mimetype": "text/x-python",
   "name": "python",
   "nbconvert_exporter": "python",
   "pygments_lexer": "ipython3",
   "version": "3.10.2"
  }
 },
 "nbformat": 4,
 "nbformat_minor": 2
}
