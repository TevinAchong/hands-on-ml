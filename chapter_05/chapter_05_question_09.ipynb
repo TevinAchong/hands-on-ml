{
 "cells": [
  {
   "cell_type": "markdown",
   "metadata": {},
   "source": [
    "### 9. Train a `LinearSVC` on a linearly separable dataset. Then train an `SVC` and a `SGDClassifier` on the same dataset. See if you can get them to produce roughly the same model."
   ]
  },
  {
   "cell_type": "code",
   "execution_count": 228,
   "metadata": {},
   "outputs": [],
   "source": [
    "# I will just use the iris dataset with petal length and width \n",
    "# to classify flowers as Iris virginica or not\n",
    "from sklearn.datasets import load_iris\n",
    "\n",
    "iris = load_iris(as_frame=True)"
   ]
  },
  {
   "cell_type": "code",
   "execution_count": 229,
   "metadata": {},
   "outputs": [
    {
     "data": {
      "text/html": [
       "<div>\n",
       "<style scoped>\n",
       "    .dataframe tbody tr th:only-of-type {\n",
       "        vertical-align: middle;\n",
       "    }\n",
       "\n",
       "    .dataframe tbody tr th {\n",
       "        vertical-align: top;\n",
       "    }\n",
       "\n",
       "    .dataframe thead th {\n",
       "        text-align: right;\n",
       "    }\n",
       "</style>\n",
       "<table border=\"1\" class=\"dataframe\">\n",
       "  <thead>\n",
       "    <tr style=\"text-align: right;\">\n",
       "      <th></th>\n",
       "      <th>sepal length (cm)</th>\n",
       "      <th>sepal width (cm)</th>\n",
       "      <th>petal length (cm)</th>\n",
       "      <th>petal width (cm)</th>\n",
       "    </tr>\n",
       "  </thead>\n",
       "  <tbody>\n",
       "    <tr>\n",
       "      <th>0</th>\n",
       "      <td>5.1</td>\n",
       "      <td>3.5</td>\n",
       "      <td>1.4</td>\n",
       "      <td>0.2</td>\n",
       "    </tr>\n",
       "    <tr>\n",
       "      <th>1</th>\n",
       "      <td>4.9</td>\n",
       "      <td>3.0</td>\n",
       "      <td>1.4</td>\n",
       "      <td>0.2</td>\n",
       "    </tr>\n",
       "    <tr>\n",
       "      <th>2</th>\n",
       "      <td>4.7</td>\n",
       "      <td>3.2</td>\n",
       "      <td>1.3</td>\n",
       "      <td>0.2</td>\n",
       "    </tr>\n",
       "    <tr>\n",
       "      <th>3</th>\n",
       "      <td>4.6</td>\n",
       "      <td>3.1</td>\n",
       "      <td>1.5</td>\n",
       "      <td>0.2</td>\n",
       "    </tr>\n",
       "    <tr>\n",
       "      <th>4</th>\n",
       "      <td>5.0</td>\n",
       "      <td>3.6</td>\n",
       "      <td>1.4</td>\n",
       "      <td>0.2</td>\n",
       "    </tr>\n",
       "    <tr>\n",
       "      <th>...</th>\n",
       "      <td>...</td>\n",
       "      <td>...</td>\n",
       "      <td>...</td>\n",
       "      <td>...</td>\n",
       "    </tr>\n",
       "    <tr>\n",
       "      <th>145</th>\n",
       "      <td>6.7</td>\n",
       "      <td>3.0</td>\n",
       "      <td>5.2</td>\n",
       "      <td>2.3</td>\n",
       "    </tr>\n",
       "    <tr>\n",
       "      <th>146</th>\n",
       "      <td>6.3</td>\n",
       "      <td>2.5</td>\n",
       "      <td>5.0</td>\n",
       "      <td>1.9</td>\n",
       "    </tr>\n",
       "    <tr>\n",
       "      <th>147</th>\n",
       "      <td>6.5</td>\n",
       "      <td>3.0</td>\n",
       "      <td>5.2</td>\n",
       "      <td>2.0</td>\n",
       "    </tr>\n",
       "    <tr>\n",
       "      <th>148</th>\n",
       "      <td>6.2</td>\n",
       "      <td>3.4</td>\n",
       "      <td>5.4</td>\n",
       "      <td>2.3</td>\n",
       "    </tr>\n",
       "    <tr>\n",
       "      <th>149</th>\n",
       "      <td>5.9</td>\n",
       "      <td>3.0</td>\n",
       "      <td>5.1</td>\n",
       "      <td>1.8</td>\n",
       "    </tr>\n",
       "  </tbody>\n",
       "</table>\n",
       "<p>150 rows × 4 columns</p>\n",
       "</div>"
      ],
      "text/plain": [
       "     sepal length (cm)  sepal width (cm)  petal length (cm)  petal width (cm)\n",
       "0                  5.1               3.5                1.4               0.2\n",
       "1                  4.9               3.0                1.4               0.2\n",
       "2                  4.7               3.2                1.3               0.2\n",
       "3                  4.6               3.1                1.5               0.2\n",
       "4                  5.0               3.6                1.4               0.2\n",
       "..                 ...               ...                ...               ...\n",
       "145                6.7               3.0                5.2               2.3\n",
       "146                6.3               2.5                5.0               1.9\n",
       "147                6.5               3.0                5.2               2.0\n",
       "148                6.2               3.4                5.4               2.3\n",
       "149                5.9               3.0                5.1               1.8\n",
       "\n",
       "[150 rows x 4 columns]"
      ]
     },
     "execution_count": 229,
     "metadata": {},
     "output_type": "execute_result"
    }
   ],
   "source": [
    "iris.data"
   ]
  },
  {
   "cell_type": "code",
   "execution_count": 230,
   "metadata": {},
   "outputs": [
    {
     "data": {
      "text/plain": [
       "0      0\n",
       "1      0\n",
       "2      0\n",
       "3      0\n",
       "4      0\n",
       "      ..\n",
       "145    2\n",
       "146    2\n",
       "147    2\n",
       "148    2\n",
       "149    2\n",
       "Name: target, Length: 150, dtype: int64"
      ]
     },
     "execution_count": 230,
     "metadata": {},
     "output_type": "execute_result"
    }
   ],
   "source": [
    "iris.target"
   ]
  },
  {
   "cell_type": "code",
   "execution_count": 231,
   "metadata": {},
   "outputs": [],
   "source": [
    "X = iris.data[[\"petal length (cm)\", \"petal width (cm)\"]].values\n",
    "y = iris.target # Iris virginica"
   ]
  },
  {
   "cell_type": "code",
   "execution_count": 232,
   "metadata": {},
   "outputs": [],
   "source": [
    "setosa_or_versicolor = (y == 0) | (y == 1)\n",
    "X = X[setosa_or_versicolor]\n",
    "y = y[setosa_or_versicolor]"
   ]
  },
  {
   "cell_type": "code",
   "execution_count": 233,
   "metadata": {},
   "outputs": [
    {
     "name": "stdout",
     "output_type": "stream",
     "text": [
      "Dataset length: 100\n",
      "Labels length: 100\n"
     ]
    }
   ],
   "source": [
    "print(f\"Dataset length: {len(X)}\")\n",
    "print(f\"Labels length: {len(y)}\")"
   ]
  },
  {
   "cell_type": "code",
   "execution_count": 234,
   "metadata": {},
   "outputs": [
    {
     "name": "stdout",
     "output_type": "stream",
     "text": [
      "(100, 2)\n"
     ]
    },
    {
     "name": "stderr",
     "output_type": "stream",
     "text": [
      "/Users/tevinachong/Documents/Courses/hands-on-ml/venv/lib/python3.10/site-packages/sklearn/svm/_classes.py:31: FutureWarning: The default value of `dual` will change from `True` to `'auto'` in 1.5. Set the value of `dual` explicitly to suppress the warning.\n",
      "  warnings.warn(\n"
     ]
    }
   ],
   "source": [
    "# Scaling the inputs and running a few different models\n",
    "from sklearn.pipeline import make_pipeline\n",
    "from sklearn.preprocessing import StandardScaler\n",
    "from sklearn.svm import LinearSVC\n",
    "from sklearn.svm import SVC \n",
    "from sklearn.linear_model import SGDClassifier\n",
    "\n",
    "std_scaler = StandardScaler()\n",
    "print(X.shape)\n",
    "X_scaled = std_scaler.fit_transform(X)\n",
    "\n",
    "linear_svc_clf = LinearSVC(C=1, random_state=42).fit(X_scaled, y)\n",
    "\n",
    "svc_clf = SVC(C=1, random_state=42, kernel=\"linear\").fit(X_scaled, y)\n",
    "\n",
    "sgd_clf = SGDClassifier(random_state=42).fit(X_scaled, y)\n",
    "\n"
   ]
  },
  {
   "cell_type": "code",
   "execution_count": 235,
   "metadata": {},
   "outputs": [
    {
     "name": "stdout",
     "output_type": "stream",
     "text": [
      "Linear SVC prediction: [1]\n",
      "SVC prediction: [1]\n",
      "SGD Classifier prediction: [1]\n"
     ]
    }
   ],
   "source": [
    "# Testing out each model on a new instance\n",
    "X_test_instance = [[5.5, 1.7]]\n",
    "\n",
    "print(f\"Linear SVC prediction: {linear_svc_clf.predict(X_test_instance)}\")\n",
    "print(f\"SVC prediction: {svc_clf.predict(X_test_instance)}\")\n",
    "print(f\"SGD Classifier prediction: {sgd_clf.predict(X_test_instance)}\")"
   ]
  },
  {
   "cell_type": "code",
   "execution_count": 236,
   "metadata": {},
   "outputs": [
    {
     "name": "stdout",
     "output_type": "stream",
     "text": [
      "Test Instance distance from the decision boundary for: \n",
      "\t - Linear SVC: [6.62975393]\n",
      "\t - SVC: [7.67138333]\n",
      "\t - SGD Classifier: [66.83600354]\n"
     ]
    }
   ],
   "source": [
    "# Okay, they all have same prediction. Good.\n",
    "\n",
    "print(\"Test Instance distance from the decision boundary for: \")\n",
    "print(f\"\\t - Linear SVC: {linear_svc_clf.decision_function(X_test_instance)}\")\n",
    "print(f\"\\t - SVC: {svc_clf.decision_function(X_test_instance)}\")\n",
    "print(f\"\\t - SGD Classifier: {sgd_clf.decision_function(X_test_instance)}\")\n"
   ]
  },
  {
   "cell_type": "code",
   "execution_count": 237,
   "metadata": {},
   "outputs": [],
   "source": [
    "import matplotlib.pyplot as plt\n",
    "\n",
    "##### TODO: CHECK AURELIEN'S ANSWER TO PLOT DECISION BOUNDARY\n",
    "def compute_decision_boundary(model, scaler):\n",
    "    w = -model.coef_[0, 0] / model.coef_[0, 1]\n",
    "    b = -model.intercept_[0] / model.coef_[0, 1]\n",
    "    return scaler.inverse_transform([[-10, -10 * w + b], [10, 10 * w + b]])\n",
    "\n",
    "def plot_boundaries(linear_svc_line, svc_line, sgd_line):\n",
    "    # Plot all three decision boundaries\n",
    "    plt.figure(figsize=(11, 4))\n",
    "    plt.plot(linear_svc_line[:, 0], linear_svc_line[:, 1], \"k:\", label=\"LinearSVC\")\n",
    "    plt.plot(svc_line[:, 0], svc_line[:, 1], \"b--\", linewidth=2, label=\"SVC\")\n",
    "    plt.plot(sgd_line[:, 0], sgd_line[:, 1], \"r-\", label=\"SGDClassifier\")\n",
    "    plt.plot(X[:, 0][y==1], X[:, 1][y==1], \"bs\") # label=\"Iris versicolor\"\n",
    "    plt.plot(X[:, 0][y==0], X[:, 1][y==0], \"yo\") # label=\"Iris setosa\"\n",
    "    plt.xlabel(\"Petal length\")\n",
    "    plt.ylabel(\"Petal width\")\n",
    "    plt.legend(loc=\"upper center\")\n",
    "    plt.axis([0, 7, 0, 2])\n",
    "    plt.grid()\n",
    "\n",
    "    plt.show()"
   ]
  },
  {
   "cell_type": "code",
   "execution_count": 238,
   "metadata": {},
   "outputs": [],
   "source": [
    "# def plot_boundaries(linear_svc_clf, svc_clf, sgd_clf):\n",
    "#     # Create a grid of values in the original feature space\n",
    "#     petal_length = np.linspace(0, 7, 200).reshape(-1, 1)\n",
    "#     petal_width = np.linspace(0, 2, 200).reshape(-1, 1)\n",
    "    \n",
    "#     # Combine them into a grid\n",
    "#     grid = np.hstack((petal_length, np.full_like(petal_length, 1.0)))  # Keeping width constant\n",
    "#     grid_scaled = std_scaler.transform(grid)  # Scale the grid\n",
    "\n",
    "#     # Compute decision boundary in the scaled space\n",
    "#     linear_svc_line = std_scaler.inverse_transform(\n",
    "#         np.c_[grid[:, 0], -linear_svc_clf.coef_[0, 0] / linear_svc_clf.coef_[0, 1] * grid_scaled[:, 0] - linear_svc_clf.intercept_ / linear_svc_clf.coef_[0, 1]]\n",
    "#     )\n",
    "    \n",
    "#     svc_line = std_scaler.inverse_transform(\n",
    "#         np.c_[grid[:, 0], -svc_clf.coef_[0, 0] / svc_clf.coef_[0, 1] * grid_scaled[:, 0] - svc_clf.intercept_ / svc_clf.coef_[0, 1]]\n",
    "#     )\n",
    "\n",
    "#     sgd_line = std_scaler.inverse_transform(\n",
    "#         np.c_[grid[:, 0], -sgd_clf.coef_[0, 0] / sgd_clf.coef_[0, 1] * grid_scaled[:, 0] - sgd_clf.intercept_ / sgd_clf.coef_[0, 1]]\n",
    "#     )\n",
    "\n",
    "#     # Plot all three decision boundaries\n",
    "#     plt.figure(figsize=(11, 4))\n",
    "#     plt.plot(linear_svc_line[:, 0], linear_svc_line[:, 1], \"k:\", label=\"LinearSVC\")\n",
    "#     plt.plot(svc_line[:, 0], svc_line[:, 1], \"b--\", linewidth=2, label=\"SVC\")\n",
    "#     plt.plot(sgd_line[:, 0], sgd_line[:, 1], \"r-\", label=\"SGDClassifier\")\n",
    "\n",
    "#     # Plot the dataset points\n",
    "#     plt.scatter(X[y == 1, 0], X[y == 1, 1], color=\"blue\", marker=\"s\", label=\"Iris Virginica\")\n",
    "#     plt.scatter(X[y == 0, 0], X[y == 0, 1], color=\"yellow\", marker=\"o\", label=\"Not Virginica\")\n",
    "\n",
    "#     plt.xlabel(\"Petal length (cm)\")\n",
    "#     plt.ylabel(\"Petal width (cm)\")\n",
    "#     plt.legend(loc=\"upper center\")\n",
    "#     plt.axis([0, 7, 0, 2])\n",
    "#     plt.grid()\n",
    "#     plt.title(\"Decision Boundaries in Original Feature Space\")\n",
    "\n",
    "#     plt.show()\n"
   ]
  },
  {
   "cell_type": "code",
   "execution_count": 239,
   "metadata": {},
   "outputs": [
    {
     "data": {
      "image/png": "[encoded data removed]",
      "text/plain": [
       "<Figure size 1100x400 with 1 Axes>"
      ]
     },
     "metadata": {},
     "output_type": "display_data"
    }
   ],
   "source": [
    "linear_svc_line = compute_decision_boundary(linear_svc_clf, std_scaler)\n",
    "svc_line = compute_decision_boundary(svc_clf, std_scaler)\n",
    "sgd_line = compute_decision_boundary(sgd_clf, std_scaler)\n",
    "\n",
    "plot_boundaries(linear_svc_line, svc_line, sgd_line)"
   ]
  },
  {
   "cell_type": "markdown",
   "metadata": {},
   "source": [
    "## NOTE ABOUT GETTING PREDICTIONS\n",
    "### When a model is built using a pipeline which contains a scaler, you can just pass the raw inputs to get predictions, the pipeline will handle the scaling of the inputs.\n",
    "### When a model is built without using a pipeline, but it is trained on scaled data, you must scale the input before getting predictions!"
   ]
  },
  {
   "cell_type": "code",
   "execution_count": 240,
   "metadata": {},
   "outputs": [],
   "source": [
    "# We can see it does a terrible job.\n",
    "# For instance, let us test on an example that should clearly be versicolor\n",
    "\n",
    "def check_test_instance_closeness(X_test_scaled, svc_clf, linear_svc_clf, sgd_clf):\n",
    "\n",
    "    print(f\"Test instance: {X_test_scaled}\")\n",
    "    print(f\"SVC Prediction: {svc_clf.predict(X_test_scaled)}\")\n",
    "    print(f\"Test Instance Distance from SVC boundary: {svc_clf.decision_function(X_test_instance)}\")\n",
    "    print(\"-\"*50)\n",
    "\n",
    "    print(f\"Linear SVC Prediction: {linear_svc_clf.predict(X_test_scaled)}\")\n",
    "    print(f\"Test Instance Distance from Linear SVC boundary: {linear_svc_clf.decision_function(X_test_instance)}\")\n",
    "    print(\"-\"*50)\n",
    "\n",
    "    print(f\"SGD Prediction: {sgd_clf.predict(X_test_scaled)}\")\n",
    "    print(f\"Test Instance Distance from SGD boundary: {sgd_clf.decision_function(X_test_instance)}\")\n",
    "    print(\"-\"*50)\n"
   ]
  },
  {
   "cell_type": "code",
   "execution_count": 241,
   "metadata": {},
   "outputs": [
    {
     "data": {
      "text/plain": [
       "array([[-1.29031581,  1.26973921]])"
      ]
     },
     "execution_count": 241,
     "metadata": {},
     "output_type": "execute_result"
    }
   ],
   "source": [
    "X_test_scaled = std_scaler.transform(np.array([[1, 1.5]]))\n",
    "X_test_scaled"
   ]
  },
  {
   "cell_type": "code",
   "execution_count": 242,
   "metadata": {},
   "outputs": [
    {
     "name": "stdout",
     "output_type": "stream",
     "text": [
      "Test instance: [[-1.29031581  1.26973921]]\n",
      "SVC Prediction: [1]\n",
      "Test Instance Distance from SVC boundary: [7.67138333]\n",
      "--------------------------------------------------\n",
      "Linear SVC Prediction: [1]\n",
      "Test Instance Distance from Linear SVC boundary: [6.62975393]\n",
      "--------------------------------------------------\n",
      "SGD Prediction: [0]\n",
      "Test Instance Distance from SGD boundary: [66.83600354]\n",
      "--------------------------------------------------\n"
     ]
    }
   ],
   "source": [
    "check_test_instance_closeness(X_test_scaled, svc_clf, linear_svc_clf, sgd_clf)"
   ]
  },
  {
   "cell_type": "code",
   "execution_count": null,
   "metadata": {},
   "outputs": [],
   "source": []
  }
 ],
 "metadata": {
  "kernelspec": {
   "display_name": "venv",
   "language": "python",
   "name": "python3"
  },
  "language_info": {
   "codemirror_mode": {
    "name": "ipython",
    "version": 3
   },
   "file_extension": ".py",
   "mimetype": "text/x-python",
   "name": "python",
   "nbconvert_exporter": "python",
   "pygments_lexer": "ipython3",
   "version": "3.10.2"
  }
 },
 "nbformat": 4,
 "nbformat_minor": 2
}
