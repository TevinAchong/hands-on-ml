{
 "cells": [
  {
   "cell_type": "markdown",
   "metadata": {},
   "source": [
    "#### 1. What is the approximate depth of a decision tree trained (without restrictions) on a training set with one million instances?"
   ]
  },
  {
   "cell_type": "markdown",
   "metadata": {},
   "source": [
    "**My Answer:**\n",
    "- How many times can you split 1,000,000 into two? $log_2(1000000) \\approx 20$. This is because the CART algorithm splits the dataset in two until it no longer finds a split that will improve Gini or decrease MSE.\n",
    "\n",
    "**Aurelien's Answer:**\n",
    "- The depth of a well-balanced binary tree containing $m$ leaves is equal to $log_2(m)$, rounded up. $log_2(m)$ is the binary log; $log_2(m) = \\frac{log(m)}{log(2)}$. A binary decision tree (one that only makes binary decisions, as is the case with all trees in Scikit-Learn) will end up more or less well-balanced at the end of training, with one leaf per training instance if it is trained without restrictions. Thus, if the training set contains one million instances, the Decision Tree will have a depth of $log_2(10^6) \\approx 20$ (actually a bit more since the tree will generally not be perfectly well balanced.)"
   ]
  },
  {
   "cell_type": "markdown",
   "metadata": {},
   "source": [
    "#### 2. Is a node's Gini impurity generally lower or higher than its parent's? Is it *generally* lower/higher, or *always* lower/higher?"
   ]
  },
  {
   "cell_type": "markdown",
   "metadata": {},
   "source": [
    "**My Answer:**\n",
    "- A node's Gini impurity represents how \"pure\" a sample is, or basically how homogenous. A set that has all instances of the same class will have 0 Gini impurity. As the tree goes deeper, it learns thresholds that result in a lower impurity. If it cannot find a threshold that will do this, then it reaches a leaf node (prediction made). So I believe a node's Gini impurity is always lower than its parent's.\n",
    "\n",
    "**Aurelien's Answer:**\n",
    "- A node's Gini impurity is generally lower than it's parents. This is due to the CART algorithm's cost function, which splits each node in a way that minimizes the weighted sum of its children's Gini impurities. However, it is possible for a node to have a higher Gini impurity than its parent, as long as this increase is more than compensated for by a decrease in the other child's impurity. For example, consider a node containing four instances of class A and one of class B. Its Gini impurity is $1 - (\\frac{1}{5})^2 - (\\frac{4}{5})^2 = 0.32$. Now suppose the dataset is one-dimensional and the instances are lined up in the following order: A, B, A, A, A. You can verify that the algorithm will split this node after the second instance, producing one child node with instances A, B, and the other child node with instances A, A, A. The first child node's Gini impurity is $1 - (\\frac{1}{2})^2 - (\\frac{1}{2})^2 = 0.5$, which is higher than it's parents. This is compensated for by the fact that the other node is pure, so its overall weighted Gini impurity is $\\frac{2}{5} \\times 0.5 + \\frac{3}{5} \\times 0 = 0.2$, which is lower than the parent's Gini impurity.\n"
   ]
  },
  {
   "cell_type": "markdown",
   "metadata": {},
   "source": [
    "#### 3. If a decision tree is overfitting the training set, is it a good idea to try decreasing `max_depth`?"
   ]
  },
  {
   "cell_type": "markdown",
   "metadata": {},
   "source": [
    "**My Answer:**\n",
    "- Definitely. The max depth determines how many times the model attempts to split nodes to get more accurate classifications. Decreasing max depth would result in the model potentially generalizing better, as it is less likely to classify instances only when they fall into a very narrow range.\n",
    "\n",
    "**Aurelien's Answer:**\n",
    "- If a Decision Tree is overfitting the training set, it may be a good idea to decrease max depth, since this will constrain the model, regularizing it."
   ]
  },
  {
   "cell_type": "markdown",
   "metadata": {},
   "source": [
    "#### 4. If a decision tree is underfitting the training set, is it a good idea to try scaling the input features?"
   ]
  },
  {
   "cell_type": "markdown",
   "metadata": {},
   "source": [
    "**My Answer:**\n",
    "\n",
    "- **Aurelien's Answer:**"
   ]
  },
  {
   "cell_type": "markdown",
   "metadata": {},
   "source": [
    "#### 5. If it takes one hour to train a decision tree on a training set containing one million instances, roughly how much time will it take to train another decision tree on a training set containing ten million instances? *Hint: consider the CART algorithm's computational complexity*."
   ]
  },
  {
   "cell_type": "markdown",
   "metadata": {},
   "source": [
    "- **My Answer:**\n",
    "\n",
    "- **Aurelien's Answer:**"
   ]
  },
  {
   "cell_type": "markdown",
   "metadata": {},
   "source": [
    "#### 6. If it takes one hour to train a decision tree on a given training set, roughly how much time will it take if you double the number of features?"
   ]
  },
  {
   "cell_type": "markdown",
   "metadata": {},
   "source": [
    "- **My Answer:**\n",
    "\n",
    "- **Aurelien's Answer:**"
   ]
  },
  {
   "cell_type": "markdown",
   "metadata": {},
   "source": [
    "#### 7. Train and fine-tune a decision tree for the moons dataset by following these steps:\n",
    "- Use `make_moons(n_samples=10000, noise=0.4)` to generate a moons dataset.\n",
    "- Use `train_test_split()` to split the dataset into a training set and a test set.\n",
    "- Use grid search with cross-validation (with the help of the `GridSearchCV` class) to find good hyperparameter values for a `DecisionTreeClassifier`. Hint: try various values for `max_leaf_nodes`.\n",
    "- Train it on the full training set using these hyperparameters, and measure your model's performance on the test set. You should get roughly 85% to 87% accuracy. "
   ]
  },
  {
   "cell_type": "markdown",
   "metadata": {},
   "source": [
    "#### 8. Grow a forest by following these steps:\n",
    "- Continuing the previous exercise, generate 1000 subsets of the training set, each containing 100 instances selected randomly. *Hint: you can use Scikit-Learn's `ShuffleSplit` class for this*. \n",
    "- Train one decision tree on each subset, using the best hyperparameter values found in the previous exercise. Evaluate these 1000 decision trees on the test set. Since they were trained on smaller sets, these decision trees will likely perform worse than the first decision tree, achieving only about 80% accuracy.\n",
    "- Now comes the magic. For each test set instance, generate the predictions of the 1000 decision trees, and keep only the most frequent prediction (you can use SciPy's `mode()` function for this). This approach gives you *majority-vote predictions* over the test set.\n",
    "- Evaluate these predictions on the test set: you should obtain a slightly higher accuracy than your first model (about 0.5% to 1.5% higher). Congratulations, you have trained a random forest classifier!"
   ]
  },
  {
   "cell_type": "markdown",
   "metadata": {},
   "source": []
  }
 ],
 "metadata": {
  "language_info": {
   "name": "python"
  }
 },
 "nbformat": 4,
 "nbformat_minor": 2
}
